{
  "cells": [
    {
      "cell_type": "markdown",
      "metadata": {
        "id": "view-in-github",
        "colab_type": "text"
      },
      "source": [
        "<a href=\"https://colab.research.google.com/github/nafizfouad/Predicting_Product_Launch_Success_Using_Sentiment_Analysis/blob/main/PPLS.ipynb\" target=\"_parent\"><img src=\"https://colab.research.google.com/assets/colab-badge.svg\" alt=\"Open In Colab\"/></a>"
      ]
    },
    {
      "cell_type": "code",
      "execution_count": null,
      "metadata": {
        "colab": {
          "base_uri": "https://localhost:8080/"
        },
        "id": "JPejy8Q5E_8_",
        "outputId": "92ca9528-8339-4ee0-aaa7-a451af62315b"
      },
      "outputs": [
        {
          "name": "stdout",
          "output_type": "stream",
          "text": [
            "Mounted at /content/drive\n"
          ]
        }
      ],
      "source": [
        "# Import statements\n",
        "import pandas as pd\n",
        "import numpy as np\n",
        "import matplotlib.pyplot as plt\n",
        "import seaborn as sns\n",
        "import re\n",
        "import nltk\n",
        "from sklearn.model_selection import train_test_split\n",
        "from sklearn.feature_extraction.text import TfidfVectorizer\n",
        "from sklearn.pipeline import Pipeline\n",
        "from sklearn.metrics import accuracy_score, confusion_matrix, classification_report,ConfusionMatrixDisplay\n",
        "from sklearn import naive_bayes\n",
        "from sklearn.linear_model import LogisticRegression\n",
        "from sklearn.svm import LinearSVC\n",
        "from sklearn.neighbors import KNeighborsClassifier\n",
        "from bs4 import BeautifulSoup\n",
        "from nltk.corpus import stopwords\n",
        "from sklearn.ensemble import RandomForestClassifier\n",
        "from sklearn.model_selection import StratifiedKFold\n",
        "from sklearn.model_selection import cross_val_score, KFold\n",
        "from sklearn.metrics import make_scorer, accuracy_score, precision_score, recall_score, f1_score\n",
        "\n",
        "\n",
        "from google.colab import files\n",
        "\n",
        "from google.colab import drive\n",
        "drive.mount('/content/drive')\n",
        "\n",
        "data = pd.read_csv('/content/drive/MyDrive/dataset/amazon_electronics.csv')"
      ]
    },
    {
      "cell_type": "code",
      "execution_count": null,
      "metadata": {
        "colab": {
          "base_uri": "https://localhost:8080/"
        },
        "id": "0I1IyZP-FDct",
        "outputId": "862c4915-fe0d-4f31-a444-417346791f86"
      },
      "outputs": [
        {
          "data": {
            "text/plain": [
              "array(['yoomall 5M Antenna WIFI RP-SMA Female to Male Extensionl Cable',\n",
              "       'Hosa GPM-103 3.5mm TRS to 1/4\" TRS Adaptor',\n",
              "       'Channel Master Titan 2 Antenna Preamplifier', ...,\n",
              "       'Removable Car Stereo Faceplate Case (Discontinued by Manufacturer)',\n",
              "       'Interact 62057 CD Jewel Box Replacement Cases (10-Pack)',\n",
              "       'JVC RX-668 Audio/Video Receiver'], dtype=object)"
            ]
          },
          "execution_count": 2,
          "metadata": {},
          "output_type": "execute_result"
        }
      ],
      "source": [
        "# Code for Sentimental Analysis\n",
        "\n",
        "# Start\n",
        "\n",
        "# adding a sentiment column to classify reviews as Positive or Negative\n",
        "# Positive = 1\n",
        "# Negative = 0\n",
        "\n",
        "# Define a function to check the conditions and assign sentiment accordingly\n",
        "import numpy as np\n",
        "\n",
        "# Assuming your dataset is named 'data'\n",
        "\n",
        "# Define a function to check the conditions and assign sentiment accordingly\n",
        "def assign_sentiment(row):\n",
        "    if row['total_votes'] > 0:\n",
        "        if row['vine'] == 'Y':\n",
        "            if row['star_rating'] == 5 and row['helpful_votes'] / row['total_votes'] >= 0.8:\n",
        "                return 1\n",
        "            else:\n",
        "                return 0\n",
        "        else:\n",
        "            if row['star_rating'] >= 4 and row['helpful_votes'] / row['total_votes'] >= 0.5:\n",
        "                return 1\n",
        "            elif row['star_rating'] >= 4 and row['helpful_votes'] / row['total_votes'] < 0.5:\n",
        "                return 0\n",
        "            elif row['star_rating'] < 4 and row['helpful_votes'] / row['total_votes'] < 0.5:\n",
        "                return 1\n",
        "            else:\n",
        "                return 0\n",
        "    else:\n",
        "        if row['vine'] == 'Y' and row['star_rating'] == 5:\n",
        "            return 1\n",
        "        elif row['star_rating'] >= 4:\n",
        "            return 1\n",
        "        else:\n",
        "            return 0\n",
        "\n",
        "# Apply the function to create the 'sentiment' column\n",
        "data['sentiment'] = data.apply(assign_sentiment, axis=1)\n",
        "\n",
        "# get unique values of product title column\n",
        "data[\"product_title\"].unique()\n"
      ]
    },
    {
      "cell_type": "code",
      "source": [
        "#finding the best product to work with\n",
        "product_occurrences = data['product_title'].value_counts()\n",
        "\n",
        "popular_products = product_occurrences[product_occurrences >= 10000].index.tolist()\n",
        "\n",
        "differences = {}\n",
        "for product in popular_products:\n",
        "    ratings_leq_3 = data[(data['product_title'] == product) & (data['star_rating'] <= 3)].shape[0]\n",
        "    ratings_gt_3 = data[(data['product_title'] == product) & (data['star_rating'] > 3)].shape[0]\n",
        "    difference = abs(ratings_leq_3 - ratings_gt_3)\n",
        "    differences[product] = difference\n",
        "\n",
        "least_diff_product = min(differences, key=differences.get)\n",
        "least_diff_value = differences[least_diff_product]\n",
        "\n",
        "print(\"Product with at least 20,000 occurrences and least difference in ratings <=3 and >3:\")\n",
        "print(\"Product Title:\", least_diff_product)\n",
        "print(\"Difference:\", least_diff_value)"
      ],
      "metadata": {
        "colab": {
          "base_uri": "https://localhost:8080/"
        },
        "id": "i4EqQhJgFNhS",
        "outputId": "c32dacbe-370a-4a97-e9d5-42461abc021d"
      },
      "execution_count": null,
      "outputs": [
        {
          "output_type": "stream",
          "name": "stdout",
          "text": [
            "Product with at least 20,000 occurrences and least difference in ratings <=3 and >3:\n",
            "Product Title: Clip Plus 4 GB MP3 Player (Black)\n",
            "Difference: 4509\n"
          ]
        }
      ]
    },
    {
      "cell_type": "code",
      "execution_count": null,
      "metadata": {
        "id": "J1qcaldsFNUl",
        "colab": {
          "base_uri": "https://localhost:8080/",
          "height": 947
        },
        "outputId": "f3034bc3-58a4-4b59-cb99-9b06dfcd97cc"
      },
      "outputs": [
        {
          "output_type": "execute_result",
          "data": {
            "text/plain": [
              "        marketplace  customer_id       review_id  product_id  product_parent  \\\n",
              "283              US     46440750  R3SX2T4X6GHSL0  B002MAPT7U       808084969   \n",
              "891              US      1151466  R18FOJC1YZFKEU  B00400TGEC       808084969   \n",
              "1689             US     31463514  R3C291ENL4JOLF  B002MAPS6W       808084969   \n",
              "3400             US     51584798  R3U4XKI2EIOYFR  B002MAPT7U       808084969   \n",
              "3533             US      4761986  R3N1OJLWXWNI2F  B002MAPT7U       808084969   \n",
              "...             ...          ...             ...         ...             ...   \n",
              "2808206          US     50575556  R3G3AS1L13Q20Z  B002MAPRYU       808084969   \n",
              "2808301          US     44591774  R2GLCVFEZF0XP2  B002MAPSC6       808084969   \n",
              "2809351          US     30608005   RC6F44Z6OH682  B002MAPRYU       808084969   \n",
              "2810545          US     52647835  R1EZSABH5XJNSV  B002MAPT7U       808084969   \n",
              "2810868          US     40190272   RG0BCEWWU6LQL  B002MAPRYU       808084969   \n",
              "\n",
              "                             product_title product_category  star_rating  \\\n",
              "283      Clip Plus 4 GB MP3 Player (Black)      Electronics            1   \n",
              "891      Clip Plus 4 GB MP3 Player (Black)      Electronics            5   \n",
              "1689     Clip Plus 4 GB MP3 Player (Black)      Electronics            3   \n",
              "3400     Clip Plus 4 GB MP3 Player (Black)      Electronics            5   \n",
              "3533     Clip Plus 4 GB MP3 Player (Black)      Electronics            5   \n",
              "...                                    ...              ...          ...   \n",
              "2808206  Clip Plus 4 GB MP3 Player (Black)      Electronics            3   \n",
              "2808301  Clip Plus 4 GB MP3 Player (Black)      Electronics            5   \n",
              "2809351  Clip Plus 4 GB MP3 Player (Black)      Electronics            2   \n",
              "2810545  Clip Plus 4 GB MP3 Player (Black)      Electronics            5   \n",
              "2810868  Clip Plus 4 GB MP3 Player (Black)      Electronics            5   \n",
              "\n",
              "         helpful_votes  total_votes vine verified_purchase  \\\n",
              "283                  0            0    N                 Y   \n",
              "891                  0            0    N                 Y   \n",
              "1689                 0            0    N                 Y   \n",
              "3400                 0            0    N                 Y   \n",
              "3533                 0            0    N                 Y   \n",
              "...                ...          ...  ...               ...   \n",
              "2808206              9            9    N                 Y   \n",
              "2808301             89           89    N                 Y   \n",
              "2809351            131          131    N                 Y   \n",
              "2810545           1390         1390    N                 N   \n",
              "2810868            302          302    N                 Y   \n",
              "\n",
              "                                           review_headline  \\\n",
              "283                                                   JUNK   \n",
              "891                                                  sound   \n",
              "1689     I like how it can easily change to next song a...   \n",
              "3400            Bought as a gift... no complaints from ...   \n",
              "3533                                            Five Stars   \n",
              "...                                                    ...   \n",
              "2808206                   Great sound, problems loading up   \n",
              "2808301                                  Great MP3 Player!   \n",
              "2809351                 Buggy for a 2nd generation product   \n",
              "2810545    Great upgrade to an already great budget player   \n",
              "2810868                  Good improvements on orginal Clip   \n",
              "\n",
              "                                               review_body  sentiment  \n",
              "283      died on me only after a year of use, ridiculou...          0  \n",
              "891                   Quality!! And has a powerful sound!!          1  \n",
              "1689     I like how it can easily change to next song a...          0  \n",
              "3400     Bought as a gift...no complaints from recipien...          1  \n",
              "3533                                    My son loves this.          1  \n",
              "...                                                    ...        ...  \n",
              "2808206  I was so excited to get this Clip Plus. I had ...          0  \n",
              "2808301  9/14/2009:     This is my first MP3 player. I'...          1  \n",
              "2809351  The Clip+ is the ideal size for runners or gym...          0  \n",
              "2810545  If all you are looking for is a great sounding...          1  \n",
              "2810868  The title says is all:  Clip +.  It is really ...          1  \n",
              "\n",
              "[11779 rows x 15 columns]"
            ],
            "text/html": [
              "\n",
              "  <div id=\"df-b784c964-5d5c-4113-a9ca-3c24e4c0870b\" class=\"colab-df-container\">\n",
              "    <div>\n",
              "<style scoped>\n",
              "    .dataframe tbody tr th:only-of-type {\n",
              "        vertical-align: middle;\n",
              "    }\n",
              "\n",
              "    .dataframe tbody tr th {\n",
              "        vertical-align: top;\n",
              "    }\n",
              "\n",
              "    .dataframe thead th {\n",
              "        text-align: right;\n",
              "    }\n",
              "</style>\n",
              "<table border=\"1\" class=\"dataframe\">\n",
              "  <thead>\n",
              "    <tr style=\"text-align: right;\">\n",
              "      <th></th>\n",
              "      <th>marketplace</th>\n",
              "      <th>customer_id</th>\n",
              "      <th>review_id</th>\n",
              "      <th>product_id</th>\n",
              "      <th>product_parent</th>\n",
              "      <th>product_title</th>\n",
              "      <th>product_category</th>\n",
              "      <th>star_rating</th>\n",
              "      <th>helpful_votes</th>\n",
              "      <th>total_votes</th>\n",
              "      <th>vine</th>\n",
              "      <th>verified_purchase</th>\n",
              "      <th>review_headline</th>\n",
              "      <th>review_body</th>\n",
              "      <th>sentiment</th>\n",
              "    </tr>\n",
              "  </thead>\n",
              "  <tbody>\n",
              "    <tr>\n",
              "      <th>283</th>\n",
              "      <td>US</td>\n",
              "      <td>46440750</td>\n",
              "      <td>R3SX2T4X6GHSL0</td>\n",
              "      <td>B002MAPT7U</td>\n",
              "      <td>808084969</td>\n",
              "      <td>Clip Plus 4 GB MP3 Player (Black)</td>\n",
              "      <td>Electronics</td>\n",
              "      <td>1</td>\n",
              "      <td>0</td>\n",
              "      <td>0</td>\n",
              "      <td>N</td>\n",
              "      <td>Y</td>\n",
              "      <td>JUNK</td>\n",
              "      <td>died on me only after a year of use, ridiculou...</td>\n",
              "      <td>0</td>\n",
              "    </tr>\n",
              "    <tr>\n",
              "      <th>891</th>\n",
              "      <td>US</td>\n",
              "      <td>1151466</td>\n",
              "      <td>R18FOJC1YZFKEU</td>\n",
              "      <td>B00400TGEC</td>\n",
              "      <td>808084969</td>\n",
              "      <td>Clip Plus 4 GB MP3 Player (Black)</td>\n",
              "      <td>Electronics</td>\n",
              "      <td>5</td>\n",
              "      <td>0</td>\n",
              "      <td>0</td>\n",
              "      <td>N</td>\n",
              "      <td>Y</td>\n",
              "      <td>sound</td>\n",
              "      <td>Quality!! And has a powerful sound!!</td>\n",
              "      <td>1</td>\n",
              "    </tr>\n",
              "    <tr>\n",
              "      <th>1689</th>\n",
              "      <td>US</td>\n",
              "      <td>31463514</td>\n",
              "      <td>R3C291ENL4JOLF</td>\n",
              "      <td>B002MAPS6W</td>\n",
              "      <td>808084969</td>\n",
              "      <td>Clip Plus 4 GB MP3 Player (Black)</td>\n",
              "      <td>Electronics</td>\n",
              "      <td>3</td>\n",
              "      <td>0</td>\n",
              "      <td>0</td>\n",
              "      <td>N</td>\n",
              "      <td>Y</td>\n",
              "      <td>I like how it can easily change to next song a...</td>\n",
              "      <td>I like how it can easily change to next song a...</td>\n",
              "      <td>0</td>\n",
              "    </tr>\n",
              "    <tr>\n",
              "      <th>3400</th>\n",
              "      <td>US</td>\n",
              "      <td>51584798</td>\n",
              "      <td>R3U4XKI2EIOYFR</td>\n",
              "      <td>B002MAPT7U</td>\n",
              "      <td>808084969</td>\n",
              "      <td>Clip Plus 4 GB MP3 Player (Black)</td>\n",
              "      <td>Electronics</td>\n",
              "      <td>5</td>\n",
              "      <td>0</td>\n",
              "      <td>0</td>\n",
              "      <td>N</td>\n",
              "      <td>Y</td>\n",
              "      <td>Bought as a gift... no complaints from ...</td>\n",
              "      <td>Bought as a gift...no complaints from recipien...</td>\n",
              "      <td>1</td>\n",
              "    </tr>\n",
              "    <tr>\n",
              "      <th>3533</th>\n",
              "      <td>US</td>\n",
              "      <td>4761986</td>\n",
              "      <td>R3N1OJLWXWNI2F</td>\n",
              "      <td>B002MAPT7U</td>\n",
              "      <td>808084969</td>\n",
              "      <td>Clip Plus 4 GB MP3 Player (Black)</td>\n",
              "      <td>Electronics</td>\n",
              "      <td>5</td>\n",
              "      <td>0</td>\n",
              "      <td>0</td>\n",
              "      <td>N</td>\n",
              "      <td>Y</td>\n",
              "      <td>Five Stars</td>\n",
              "      <td>My son loves this.</td>\n",
              "      <td>1</td>\n",
              "    </tr>\n",
              "    <tr>\n",
              "      <th>...</th>\n",
              "      <td>...</td>\n",
              "      <td>...</td>\n",
              "      <td>...</td>\n",
              "      <td>...</td>\n",
              "      <td>...</td>\n",
              "      <td>...</td>\n",
              "      <td>...</td>\n",
              "      <td>...</td>\n",
              "      <td>...</td>\n",
              "      <td>...</td>\n",
              "      <td>...</td>\n",
              "      <td>...</td>\n",
              "      <td>...</td>\n",
              "      <td>...</td>\n",
              "      <td>...</td>\n",
              "    </tr>\n",
              "    <tr>\n",
              "      <th>2808206</th>\n",
              "      <td>US</td>\n",
              "      <td>50575556</td>\n",
              "      <td>R3G3AS1L13Q20Z</td>\n",
              "      <td>B002MAPRYU</td>\n",
              "      <td>808084969</td>\n",
              "      <td>Clip Plus 4 GB MP3 Player (Black)</td>\n",
              "      <td>Electronics</td>\n",
              "      <td>3</td>\n",
              "      <td>9</td>\n",
              "      <td>9</td>\n",
              "      <td>N</td>\n",
              "      <td>Y</td>\n",
              "      <td>Great sound, problems loading up</td>\n",
              "      <td>I was so excited to get this Clip Plus. I had ...</td>\n",
              "      <td>0</td>\n",
              "    </tr>\n",
              "    <tr>\n",
              "      <th>2808301</th>\n",
              "      <td>US</td>\n",
              "      <td>44591774</td>\n",
              "      <td>R2GLCVFEZF0XP2</td>\n",
              "      <td>B002MAPSC6</td>\n",
              "      <td>808084969</td>\n",
              "      <td>Clip Plus 4 GB MP3 Player (Black)</td>\n",
              "      <td>Electronics</td>\n",
              "      <td>5</td>\n",
              "      <td>89</td>\n",
              "      <td>89</td>\n",
              "      <td>N</td>\n",
              "      <td>Y</td>\n",
              "      <td>Great MP3 Player!</td>\n",
              "      <td>9/14/2009:     This is my first MP3 player. I'...</td>\n",
              "      <td>1</td>\n",
              "    </tr>\n",
              "    <tr>\n",
              "      <th>2809351</th>\n",
              "      <td>US</td>\n",
              "      <td>30608005</td>\n",
              "      <td>RC6F44Z6OH682</td>\n",
              "      <td>B002MAPRYU</td>\n",
              "      <td>808084969</td>\n",
              "      <td>Clip Plus 4 GB MP3 Player (Black)</td>\n",
              "      <td>Electronics</td>\n",
              "      <td>2</td>\n",
              "      <td>131</td>\n",
              "      <td>131</td>\n",
              "      <td>N</td>\n",
              "      <td>Y</td>\n",
              "      <td>Buggy for a 2nd generation product</td>\n",
              "      <td>The Clip+ is the ideal size for runners or gym...</td>\n",
              "      <td>0</td>\n",
              "    </tr>\n",
              "    <tr>\n",
              "      <th>2810545</th>\n",
              "      <td>US</td>\n",
              "      <td>52647835</td>\n",
              "      <td>R1EZSABH5XJNSV</td>\n",
              "      <td>B002MAPT7U</td>\n",
              "      <td>808084969</td>\n",
              "      <td>Clip Plus 4 GB MP3 Player (Black)</td>\n",
              "      <td>Electronics</td>\n",
              "      <td>5</td>\n",
              "      <td>1390</td>\n",
              "      <td>1390</td>\n",
              "      <td>N</td>\n",
              "      <td>N</td>\n",
              "      <td>Great upgrade to an already great budget player</td>\n",
              "      <td>If all you are looking for is a great sounding...</td>\n",
              "      <td>1</td>\n",
              "    </tr>\n",
              "    <tr>\n",
              "      <th>2810868</th>\n",
              "      <td>US</td>\n",
              "      <td>40190272</td>\n",
              "      <td>RG0BCEWWU6LQL</td>\n",
              "      <td>B002MAPRYU</td>\n",
              "      <td>808084969</td>\n",
              "      <td>Clip Plus 4 GB MP3 Player (Black)</td>\n",
              "      <td>Electronics</td>\n",
              "      <td>5</td>\n",
              "      <td>302</td>\n",
              "      <td>302</td>\n",
              "      <td>N</td>\n",
              "      <td>Y</td>\n",
              "      <td>Good improvements on orginal Clip</td>\n",
              "      <td>The title says is all:  Clip +.  It is really ...</td>\n",
              "      <td>1</td>\n",
              "    </tr>\n",
              "  </tbody>\n",
              "</table>\n",
              "<p>11779 rows × 15 columns</p>\n",
              "</div>\n",
              "    <div class=\"colab-df-buttons\">\n",
              "\n",
              "  <div class=\"colab-df-container\">\n",
              "    <button class=\"colab-df-convert\" onclick=\"convertToInteractive('df-b784c964-5d5c-4113-a9ca-3c24e4c0870b')\"\n",
              "            title=\"Convert this dataframe to an interactive table.\"\n",
              "            style=\"display:none;\">\n",
              "\n",
              "  <svg xmlns=\"http://www.w3.org/2000/svg\" height=\"24px\" viewBox=\"0 -960 960 960\">\n",
              "    <path d=\"M120-120v-720h720v720H120Zm60-500h600v-160H180v160Zm220 220h160v-160H400v160Zm0 220h160v-160H400v160ZM180-400h160v-160H180v160Zm440 0h160v-160H620v160ZM180-180h160v-160H180v160Zm440 0h160v-160H620v160Z\"/>\n",
              "  </svg>\n",
              "    </button>\n",
              "\n",
              "  <style>\n",
              "    .colab-df-container {\n",
              "      display:flex;\n",
              "      gap: 12px;\n",
              "    }\n",
              "\n",
              "    .colab-df-convert {\n",
              "      background-color: #E8F0FE;\n",
              "      border: none;\n",
              "      border-radius: 50%;\n",
              "      cursor: pointer;\n",
              "      display: none;\n",
              "      fill: #1967D2;\n",
              "      height: 32px;\n",
              "      padding: 0 0 0 0;\n",
              "      width: 32px;\n",
              "    }\n",
              "\n",
              "    .colab-df-convert:hover {\n",
              "      background-color: #E2EBFA;\n",
              "      box-shadow: 0px 1px 2px rgba(60, 64, 67, 0.3), 0px 1px 3px 1px rgba(60, 64, 67, 0.15);\n",
              "      fill: #174EA6;\n",
              "    }\n",
              "\n",
              "    .colab-df-buttons div {\n",
              "      margin-bottom: 4px;\n",
              "    }\n",
              "\n",
              "    [theme=dark] .colab-df-convert {\n",
              "      background-color: #3B4455;\n",
              "      fill: #D2E3FC;\n",
              "    }\n",
              "\n",
              "    [theme=dark] .colab-df-convert:hover {\n",
              "      background-color: #434B5C;\n",
              "      box-shadow: 0px 1px 3px 1px rgba(0, 0, 0, 0.15);\n",
              "      filter: drop-shadow(0px 1px 2px rgba(0, 0, 0, 0.3));\n",
              "      fill: #FFFFFF;\n",
              "    }\n",
              "  </style>\n",
              "\n",
              "    <script>\n",
              "      const buttonEl =\n",
              "        document.querySelector('#df-b784c964-5d5c-4113-a9ca-3c24e4c0870b button.colab-df-convert');\n",
              "      buttonEl.style.display =\n",
              "        google.colab.kernel.accessAllowed ? 'block' : 'none';\n",
              "\n",
              "      async function convertToInteractive(key) {\n",
              "        const element = document.querySelector('#df-b784c964-5d5c-4113-a9ca-3c24e4c0870b');\n",
              "        const dataTable =\n",
              "          await google.colab.kernel.invokeFunction('convertToInteractive',\n",
              "                                                    [key], {});\n",
              "        if (!dataTable) return;\n",
              "\n",
              "        const docLinkHtml = 'Like what you see? Visit the ' +\n",
              "          '<a target=\"_blank\" href=https://colab.research.google.com/notebooks/data_table.ipynb>data table notebook</a>'\n",
              "          + ' to learn more about interactive tables.';\n",
              "        element.innerHTML = '';\n",
              "        dataTable['output_type'] = 'display_data';\n",
              "        await google.colab.output.renderOutput(dataTable, element);\n",
              "        const docLink = document.createElement('div');\n",
              "        docLink.innerHTML = docLinkHtml;\n",
              "        element.appendChild(docLink);\n",
              "      }\n",
              "    </script>\n",
              "  </div>\n",
              "\n",
              "\n",
              "<div id=\"df-b6c99c5a-f2c3-4af6-bcdc-c7db1f3e82ca\">\n",
              "  <button class=\"colab-df-quickchart\" onclick=\"quickchart('df-b6c99c5a-f2c3-4af6-bcdc-c7db1f3e82ca')\"\n",
              "            title=\"Suggest charts\"\n",
              "            style=\"display:none;\">\n",
              "\n",
              "<svg xmlns=\"http://www.w3.org/2000/svg\" height=\"24px\"viewBox=\"0 0 24 24\"\n",
              "     width=\"24px\">\n",
              "    <g>\n",
              "        <path d=\"M19 3H5c-1.1 0-2 .9-2 2v14c0 1.1.9 2 2 2h14c1.1 0 2-.9 2-2V5c0-1.1-.9-2-2-2zM9 17H7v-7h2v7zm4 0h-2V7h2v10zm4 0h-2v-4h2v4z\"/>\n",
              "    </g>\n",
              "</svg>\n",
              "  </button>\n",
              "\n",
              "<style>\n",
              "  .colab-df-quickchart {\n",
              "      --bg-color: #E8F0FE;\n",
              "      --fill-color: #1967D2;\n",
              "      --hover-bg-color: #E2EBFA;\n",
              "      --hover-fill-color: #174EA6;\n",
              "      --disabled-fill-color: #AAA;\n",
              "      --disabled-bg-color: #DDD;\n",
              "  }\n",
              "\n",
              "  [theme=dark] .colab-df-quickchart {\n",
              "      --bg-color: #3B4455;\n",
              "      --fill-color: #D2E3FC;\n",
              "      --hover-bg-color: #434B5C;\n",
              "      --hover-fill-color: #FFFFFF;\n",
              "      --disabled-bg-color: #3B4455;\n",
              "      --disabled-fill-color: #666;\n",
              "  }\n",
              "\n",
              "  .colab-df-quickchart {\n",
              "    background-color: var(--bg-color);\n",
              "    border: none;\n",
              "    border-radius: 50%;\n",
              "    cursor: pointer;\n",
              "    display: none;\n",
              "    fill: var(--fill-color);\n",
              "    height: 32px;\n",
              "    padding: 0;\n",
              "    width: 32px;\n",
              "  }\n",
              "\n",
              "  .colab-df-quickchart:hover {\n",
              "    background-color: var(--hover-bg-color);\n",
              "    box-shadow: 0 1px 2px rgba(60, 64, 67, 0.3), 0 1px 3px 1px rgba(60, 64, 67, 0.15);\n",
              "    fill: var(--button-hover-fill-color);\n",
              "  }\n",
              "\n",
              "  .colab-df-quickchart-complete:disabled,\n",
              "  .colab-df-quickchart-complete:disabled:hover {\n",
              "    background-color: var(--disabled-bg-color);\n",
              "    fill: var(--disabled-fill-color);\n",
              "    box-shadow: none;\n",
              "  }\n",
              "\n",
              "  .colab-df-spinner {\n",
              "    border: 2px solid var(--fill-color);\n",
              "    border-color: transparent;\n",
              "    border-bottom-color: var(--fill-color);\n",
              "    animation:\n",
              "      spin 1s steps(1) infinite;\n",
              "  }\n",
              "\n",
              "  @keyframes spin {\n",
              "    0% {\n",
              "      border-color: transparent;\n",
              "      border-bottom-color: var(--fill-color);\n",
              "      border-left-color: var(--fill-color);\n",
              "    }\n",
              "    20% {\n",
              "      border-color: transparent;\n",
              "      border-left-color: var(--fill-color);\n",
              "      border-top-color: var(--fill-color);\n",
              "    }\n",
              "    30% {\n",
              "      border-color: transparent;\n",
              "      border-left-color: var(--fill-color);\n",
              "      border-top-color: var(--fill-color);\n",
              "      border-right-color: var(--fill-color);\n",
              "    }\n",
              "    40% {\n",
              "      border-color: transparent;\n",
              "      border-right-color: var(--fill-color);\n",
              "      border-top-color: var(--fill-color);\n",
              "    }\n",
              "    60% {\n",
              "      border-color: transparent;\n",
              "      border-right-color: var(--fill-color);\n",
              "    }\n",
              "    80% {\n",
              "      border-color: transparent;\n",
              "      border-right-color: var(--fill-color);\n",
              "      border-bottom-color: var(--fill-color);\n",
              "    }\n",
              "    90% {\n",
              "      border-color: transparent;\n",
              "      border-bottom-color: var(--fill-color);\n",
              "    }\n",
              "  }\n",
              "</style>\n",
              "\n",
              "  <script>\n",
              "    async function quickchart(key) {\n",
              "      const quickchartButtonEl =\n",
              "        document.querySelector('#' + key + ' button');\n",
              "      quickchartButtonEl.disabled = true;  // To prevent multiple clicks.\n",
              "      quickchartButtonEl.classList.add('colab-df-spinner');\n",
              "      try {\n",
              "        const charts = await google.colab.kernel.invokeFunction(\n",
              "            'suggestCharts', [key], {});\n",
              "      } catch (error) {\n",
              "        console.error('Error during call to suggestCharts:', error);\n",
              "      }\n",
              "      quickchartButtonEl.classList.remove('colab-df-spinner');\n",
              "      quickchartButtonEl.classList.add('colab-df-quickchart-complete');\n",
              "    }\n",
              "    (() => {\n",
              "      let quickchartButtonEl =\n",
              "        document.querySelector('#df-b6c99c5a-f2c3-4af6-bcdc-c7db1f3e82ca button');\n",
              "      quickchartButtonEl.style.display =\n",
              "        google.colab.kernel.accessAllowed ? 'block' : 'none';\n",
              "    })();\n",
              "  </script>\n",
              "</div>\n",
              "    </div>\n",
              "  </div>\n"
            ],
            "application/vnd.google.colaboratory.intrinsic+json": {
              "type": "dataframe",
              "variable_name": "prod_hosa",
              "summary": "{\n  \"name\": \"prod_hosa\",\n  \"rows\": 11779,\n  \"fields\": [\n    {\n      \"column\": \"marketplace\",\n      \"properties\": {\n        \"dtype\": \"category\",\n        \"num_unique_values\": 1,\n        \"samples\": [\n          \"US\"\n        ],\n        \"semantic_type\": \"\",\n        \"description\": \"\"\n      }\n    },\n    {\n      \"column\": \"customer_id\",\n      \"properties\": {\n        \"dtype\": \"number\",\n        \"std\": 14890101,\n        \"min\": 15772,\n        \"max\": 53094798,\n        \"num_unique_values\": 11775,\n        \"samples\": [\n          27836525\n        ],\n        \"semantic_type\": \"\",\n        \"description\": \"\"\n      }\n    },\n    {\n      \"column\": \"review_id\",\n      \"properties\": {\n        \"dtype\": \"string\",\n        \"num_unique_values\": 11779,\n        \"samples\": [\n          \"R28E9Y8Y79T45D\"\n        ],\n        \"semantic_type\": \"\",\n        \"description\": \"\"\n      }\n    },\n    {\n      \"column\": \"product_id\",\n      \"properties\": {\n        \"dtype\": \"category\",\n        \"num_unique_values\": 5,\n        \"samples\": [\n          \"B00400TGEC\"\n        ],\n        \"semantic_type\": \"\",\n        \"description\": \"\"\n      }\n    },\n    {\n      \"column\": \"product_parent\",\n      \"properties\": {\n        \"dtype\": \"number\",\n        \"std\": 0,\n        \"min\": 808084969,\n        \"max\": 808084969,\n        \"num_unique_values\": 1,\n        \"samples\": [\n          808084969\n        ],\n        \"semantic_type\": \"\",\n        \"description\": \"\"\n      }\n    },\n    {\n      \"column\": \"product_title\",\n      \"properties\": {\n        \"dtype\": \"category\",\n        \"num_unique_values\": 1,\n        \"samples\": [\n          \"Clip Plus 4 GB MP3 Player (Black)\"\n        ],\n        \"semantic_type\": \"\",\n        \"description\": \"\"\n      }\n    },\n    {\n      \"column\": \"product_category\",\n      \"properties\": {\n        \"dtype\": \"category\",\n        \"num_unique_values\": 1,\n        \"samples\": [\n          \"Electronics\"\n        ],\n        \"semantic_type\": \"\",\n        \"description\": \"\"\n      }\n    },\n    {\n      \"column\": \"star_rating\",\n      \"properties\": {\n        \"dtype\": \"number\",\n        \"std\": 1,\n        \"min\": 1,\n        \"max\": 5,\n        \"num_unique_values\": 5,\n        \"samples\": [\n          5\n        ],\n        \"semantic_type\": \"\",\n        \"description\": \"\"\n      }\n    },\n    {\n      \"column\": \"helpful_votes\",\n      \"properties\": {\n        \"dtype\": \"number\",\n        \"std\": 32,\n        \"min\": 0,\n        \"max\": 2557,\n        \"num_unique_values\": 56,\n        \"samples\": [\n          0\n        ],\n        \"semantic_type\": \"\",\n        \"description\": \"\"\n      }\n    },\n    {\n      \"column\": \"total_votes\",\n      \"properties\": {\n        \"dtype\": \"number\",\n        \"std\": 32,\n        \"min\": 0,\n        \"max\": 2557,\n        \"num_unique_values\": 56,\n        \"samples\": [\n          0\n        ],\n        \"semantic_type\": \"\",\n        \"description\": \"\"\n      }\n    },\n    {\n      \"column\": \"vine\",\n      \"properties\": {\n        \"dtype\": \"category\",\n        \"num_unique_values\": 1,\n        \"samples\": [\n          \"N\"\n        ],\n        \"semantic_type\": \"\",\n        \"description\": \"\"\n      }\n    },\n    {\n      \"column\": \"verified_purchase\",\n      \"properties\": {\n        \"dtype\": \"category\",\n        \"num_unique_values\": 2,\n        \"samples\": [\n          \"N\"\n        ],\n        \"semantic_type\": \"\",\n        \"description\": \"\"\n      }\n    },\n    {\n      \"column\": \"review_headline\",\n      \"properties\": {\n        \"dtype\": \"string\",\n        \"num_unique_values\": 8949,\n        \"samples\": [\n          \"Excellent little MP3!\"\n        ],\n        \"semantic_type\": \"\",\n        \"description\": \"\"\n      }\n    },\n    {\n      \"column\": \"review_body\",\n      \"properties\": {\n        \"dtype\": \"string\",\n        \"num_unique_values\": 11687,\n        \"samples\": [\n          \"I've been using this for four months now, still works. Go jogging with it, banged it up a few times, but still going strong.<br /><br />Edit (eight months after purchase): The up volume button broke. I will be buying a new one since eight months for a $30 device works out to ten cents a day. All hail capitalism.\"\n        ],\n        \"semantic_type\": \"\",\n        \"description\": \"\"\n      }\n    },\n    {\n      \"column\": \"sentiment\",\n      \"properties\": {\n        \"dtype\": \"number\",\n        \"std\": 0,\n        \"min\": 0,\n        \"max\": 1,\n        \"num_unique_values\": 2,\n        \"samples\": [\n          1\n        ],\n        \"semantic_type\": \"\",\n        \"description\": \"\"\n      }\n    }\n  ]\n}"
            }
          },
          "metadata": {},
          "execution_count": 44
        }
      ],
      "source": [
        "prod_hosa = data.loc[data[\"product_title\"]=='Clip Plus 4 GB MP3 Player (Black)']\n",
        "prod_hosa"
      ]
    },
    {
      "cell_type": "code",
      "execution_count": null,
      "metadata": {
        "id": "Nemq2Q7hFTV-"
      },
      "outputs": [],
      "source": [
        "# #split data-set to train and test\n",
        "\n",
        "X = prod_hosa['review_body']\n",
        "Y = prod_hosa['sentiment']\n",
        "\n",
        "X_train, X_test, Y_train, Y_test = train_test_split(X, Y, test_size = 0.2, random_state=42)"
      ]
    },
    {
      "cell_type": "code",
      "execution_count": null,
      "metadata": {
        "id": "G_GMRXFKFUU9"
      },
      "outputs": [],
      "source": [
        "# function to remove html elements from the reviews\n",
        "def removeHTML(raw_text):\n",
        "    clean_HTML = BeautifulSoup(raw_text, 'lxml').get_text()\n",
        "    return clean_HTML"
      ]
    },
    {
      "cell_type": "code",
      "execution_count": null,
      "metadata": {
        "id": "TZX3mYMTFWjd"
      },
      "outputs": [],
      "source": [
        "# function to remove special characters and numbers from the reviews4961\n",
        "def removeSpecialChar(raw_text):\n",
        "    clean_SpecialChar = re.sub(\"[^a-zA-Z]\", \" \", raw_text)\n",
        "    return clean_SpecialChar"
      ]
    },
    {
      "cell_type": "code",
      "execution_count": null,
      "metadata": {
        "id": "QY676yyIFay1"
      },
      "outputs": [],
      "source": [
        "# function to convert all reviews into lower case\n",
        "def toLowerCase(raw_text):\n",
        "    clean_LowerCase = raw_text.lower().split()\n",
        "    return( \" \".join(clean_LowerCase))"
      ]
    },
    {
      "cell_type": "code",
      "execution_count": null,
      "metadata": {
        "id": "xTLdZv14FczN"
      },
      "outputs": [],
      "source": [
        "# function to remove stop words from the reviews\n",
        "def removeStopWords(raw_text):\n",
        "    stops = set(stopwords.words(\"english\"))\n",
        "    words = [w for w in raw_text if not w in stops]\n",
        "    return( \" \".join(words))"
      ]
    },
    {
      "cell_type": "code",
      "execution_count": null,
      "metadata": {
        "colab": {
          "base_uri": "https://localhost:8080/"
        },
        "id": "IZ6fAiECFdet",
        "outputId": "07cf1975-b105-4184-8424-15b3c96decad"
      },
      "outputs": [
        {
          "output_type": "stream",
          "name": "stderr",
          "text": [
            "[nltk_data] Downloading package stopwords to /root/nltk_data...\n",
            "[nltk_data]   Package stopwords is already up-to-date!\n",
            "<ipython-input-60-c2a805237a43>:3: MarkupResemblesLocatorWarning: The input looks more like a filename than markup. You may want to open this file and pass the filehandle into Beautiful Soup.\n",
            "  clean_HTML = BeautifulSoup(raw_text, 'lxml').get_text()\n"
          ]
        }
      ],
      "source": [
        "# X_training clean set\n",
        "nltk.download('stopwords')\n",
        "X_train_cleaned = []\n",
        "\n",
        "for val in X_train:\n",
        "    val = removeHTML(val)\n",
        "    val = removeSpecialChar(val)\n",
        "    val = toLowerCase(val)\n",
        "    removeStopWords(val)\n",
        "    X_train_cleaned.append(val)"
      ]
    },
    {
      "cell_type": "code",
      "execution_count": null,
      "metadata": {
        "colab": {
          "base_uri": "https://localhost:8080/"
        },
        "id": "SsnCI9jMFg12",
        "outputId": "733542c8-9f18-451e-b6dd-c511831e4980"
      },
      "outputs": [
        {
          "output_type": "stream",
          "name": "stderr",
          "text": [
            "<ipython-input-60-c2a805237a43>:3: MarkupResemblesLocatorWarning: The input looks more like a filename than markup. You may want to open this file and pass the filehandle into Beautiful Soup.\n",
            "  clean_HTML = BeautifulSoup(raw_text, 'lxml').get_text()\n"
          ]
        }
      ],
      "source": [
        "# X_testing clean set\n",
        "X_test_cleaned = []\n",
        "\n",
        "for val in X_test:\n",
        "    val = removeHTML(val)\n",
        "    val = removeSpecialChar(val)\n",
        "    val = toLowerCase(val)\n",
        "    removeStopWords(val)\n",
        "    X_test_cleaned.append(val)"
      ]
    },
    {
      "cell_type": "code",
      "execution_count": null,
      "metadata": {
        "id": "g-xLQBPYFjN1"
      },
      "outputs": [],
      "source": [
        "# Convert a collection of raw documents to a matrix of TF-IDF features.\n",
        "tvec = TfidfVectorizer(use_idf=True,\n",
        "strip_accents='ascii')\n",
        "\n",
        "X_train_tvec = tvec.fit_transform(X_train_cleaned)"
      ]
    },
    {
      "cell_type": "code",
      "execution_count": null,
      "metadata": {
        "colab": {
          "base_uri": "https://localhost:8080/"
        },
        "id": "gUZuWnFHFoj9",
        "outputId": "c861955f-3fb5-4a01-a255-dec63e7b0e2c"
      },
      "outputs": [
        {
          "output_type": "stream",
          "name": "stdout",
          "text": [
            "4-Fold Cross-Validation Results:\n",
            "   Accuracy  Precision    Recall  F1 Score\n",
            "1  0.882003   0.868685  0.853936  0.860664\n",
            "2  0.890917   0.876383  0.860926  0.868038\n",
            "3  0.889219   0.877933  0.855259  0.865288\n",
            "4  0.887473   0.875422  0.862278  0.868328\n",
            "\n",
            "Mean Scores for 4-Fold Cross-Validation:\n",
            "Mean Accuracy: 0.8874031699342873\n",
            "Mean Precision: 0.8746055863043681\n",
            "Mean Recall: 0.8580996044421434\n",
            "Mean F1 Score: 0.865579697801547\n",
            "\n",
            "10-Fold Cross-Validation Results:\n",
            "    Accuracy  Precision    Recall  F1 Score\n",
            "1   0.891835   0.873805  0.869338  0.871516\n",
            "2   0.880170   0.865174  0.854933  0.859726\n",
            "3   0.883351   0.866908  0.851421  0.858529\n",
            "4   0.895966   0.881770  0.876136  0.878858\n",
            "5   0.890658   0.880255  0.857129  0.867331\n",
            "6   0.889597   0.886416  0.862084  0.872379\n",
            "7   0.897028   0.878288  0.855845  0.866051\n",
            "8   0.898089   0.890699  0.866739  0.877267\n",
            "9   0.889597   0.875465  0.863713  0.869198\n",
            "10  0.880042   0.867194  0.859094  0.862911\n",
            "\n",
            "Mean Scores for 10-Fold Cross-Validation:\n",
            "Mean Accuracy: 0.8896331894639908\n",
            "Mean Precision: 0.8765974150818734\n",
            "Mean Recall: 0.8616430962079299\n",
            "Mean F1 Score: 0.8683766727635396\n"
          ]
        }
      ],
      "source": [
        "# Define the Support Vector Classifier model\n",
        "svr_lin = LinearSVC(multi_class='ovr', C=1.0, loss='squared_hinge', dual=False)\n",
        "\n",
        "# Perform 4-fold cross-validation\n",
        "kf_4 = KFold(n_splits=4, shuffle=True, random_state=42)\n",
        "cv_scores_4 = cross_val_score(svr_lin, X_train_tvec, Y_train, cv=kf_4, scoring='accuracy')\n",
        "\n",
        "# Create a DataFrame to store cross-validation results\n",
        "cv_results_4 = pd.DataFrame(index=range(1, 5))\n",
        "cv_results_4['Accuracy'] = cv_scores_4\n",
        "cv_results_4['Precision'] = cross_val_score(svr_lin, X_train_tvec, Y_train, cv=kf_4, scoring='precision_macro')\n",
        "cv_results_4['Recall'] = cross_val_score(svr_lin, X_train_tvec, Y_train, cv=kf_4, scoring='recall_macro')\n",
        "cv_results_4['F1 Score'] = cross_val_score(svr_lin, X_train_tvec, Y_train, cv=kf_4, scoring='f1_macro')\n",
        "\n",
        "# Print 4-fold cross-validation results\n",
        "print(\"4-Fold Cross-Validation Results:\")\n",
        "print(cv_results_4)\n",
        "\n",
        "# Calculate and print mean scores for 4-fold cross-validation\n",
        "print(\"\\nMean Scores for 4-Fold Cross-Validation:\")\n",
        "print(\"Mean Accuracy:\", cv_scores_4.mean())\n",
        "print(\"Mean Precision:\", cv_results_4['Precision'].mean())\n",
        "print(\"Mean Recall:\", cv_results_4['Recall'].mean())\n",
        "print(\"Mean F1 Score:\", cv_results_4['F1 Score'].mean())\n",
        "\n",
        "# Perform 10-fold cross-validation\n",
        "kf_10 = KFold(n_splits=10, shuffle=True, random_state=42)\n",
        "cv_scores_10 = cross_val_score(svr_lin, X_train_tvec, Y_train, cv=kf_10, scoring='accuracy')\n",
        "\n",
        "# Create a DataFrame to store cross-validation results\n",
        "cv_results_10 = pd.DataFrame(index=range(1, 11))\n",
        "cv_results_10['Accuracy'] = cv_scores_10\n",
        "cv_results_10['Precision'] = cross_val_score(svr_lin, X_train_tvec, Y_train, cv=kf_10, scoring='precision_macro')\n",
        "cv_results_10['Recall'] = cross_val_score(svr_lin, X_train_tvec, Y_train, cv=kf_10, scoring='recall_macro')\n",
        "cv_results_10['F1 Score'] = cross_val_score(svr_lin, X_train_tvec, Y_train, cv=kf_10, scoring='f1_macro')\n",
        "\n",
        "# Print 10-fold cross-validation results\n",
        "print(\"\\n10-Fold Cross-Validation Results:\")\n",
        "print(cv_results_10)\n",
        "\n",
        "# Calculate and print mean scores for 10-fold cross-validation\n",
        "print(\"\\nMean Scores for 10-Fold Cross-Validation:\")\n",
        "print(\"Mean Accuracy:\", cv_scores_10.mean())\n",
        "print(\"Mean Precision:\", cv_results_10['Precision'].mean())\n",
        "print(\"Mean Recall:\", cv_results_10['Recall'].mean())\n",
        "print(\"Mean F1 Score:\", cv_results_10['F1 Score'].mean())"
      ]
    },
    {
      "cell_type": "code",
      "execution_count": null,
      "metadata": {
        "colab": {
          "base_uri": "https://localhost:8080/",
          "height": 206
        },
        "id": "2QQgeSMFFpbN",
        "outputId": "b5706ff1-5000-49ae-802b-840ec6af14c0"
      },
      "outputs": [
        {
          "output_type": "execute_result",
          "data": {
            "text/plain": [
              "<pandas.io.formats.style.Styler at 0x7e19dd3dc820>"
            ],
            "text/html": [
              "<style type=\"text/css\">\n",
              "#T_7e572_row0_col0, #T_7e572_row0_col1, #T_7e572_row0_col2, #T_7e572_row2_col3 {\n",
              "  background-color: #f2f2dd;\n",
              "  color: #000000;\n",
              "}\n",
              "#T_7e572_row0_col3 {\n",
              "  background-color: #f6f69a;\n",
              "  color: #000000;\n",
              "}\n",
              "#T_7e572_row1_col0, #T_7e572_row1_col1, #T_7e572_row1_col2, #T_7e572_row3_col3, #T_7e572_row4_col3 {\n",
              "  background-color: #ffff00;\n",
              "  color: #000000;\n",
              "}\n",
              "#T_7e572_row1_col3, #T_7e572_row2_col1, #T_7e572_row4_col0, #T_7e572_row4_col1, #T_7e572_row4_col2 {\n",
              "  background-color: #fbfb43;\n",
              "  color: #000000;\n",
              "}\n",
              "#T_7e572_row2_col0 {\n",
              "  background-color: #fbfb3f;\n",
              "  color: #000000;\n",
              "}\n",
              "#T_7e572_row2_col2 {\n",
              "  background-color: #fbfb41;\n",
              "  color: #000000;\n",
              "}\n",
              "#T_7e572_row3_col0, #T_7e572_row3_col1, #T_7e572_row3_col2 {\n",
              "  background-color: #f8f86f;\n",
              "  color: #000000;\n",
              "}\n",
              "</style>\n",
              "<table id=\"T_7e572\" class=\"dataframe\">\n",
              "  <thead>\n",
              "    <tr>\n",
              "      <th class=\"blank level0\" >&nbsp;</th>\n",
              "      <th id=\"T_7e572_level0_col0\" class=\"col_heading level0 col0\" >precision</th>\n",
              "      <th id=\"T_7e572_level0_col1\" class=\"col_heading level0 col1\" >recall</th>\n",
              "      <th id=\"T_7e572_level0_col2\" class=\"col_heading level0 col2\" >f1-score</th>\n",
              "      <th id=\"T_7e572_level0_col3\" class=\"col_heading level0 col3\" >support</th>\n",
              "    </tr>\n",
              "  </thead>\n",
              "  <tbody>\n",
              "    <tr>\n",
              "      <th id=\"T_7e572_level0_row0\" class=\"row_heading level0 row0\" >0</th>\n",
              "      <td id=\"T_7e572_row0_col0\" class=\"data row0 col0\" >0.843700</td>\n",
              "      <td id=\"T_7e572_row0_col1\" class=\"data row0 col1\" >0.804500</td>\n",
              "      <td id=\"T_7e572_row0_col2\" class=\"data row0 col2\" >0.823600</td>\n",
              "      <td id=\"T_7e572_row0_col3\" class=\"data row0 col3\" >711.000000</td>\n",
              "    </tr>\n",
              "    <tr>\n",
              "      <th id=\"T_7e572_level0_row1\" class=\"row_heading level0 row1\" >1</th>\n",
              "      <td id=\"T_7e572_row1_col0\" class=\"data row1 col0\" >0.917200</td>\n",
              "      <td id=\"T_7e572_row1_col1\" class=\"data row1 col1\" >0.935600</td>\n",
              "      <td id=\"T_7e572_row1_col2\" class=\"data row1 col2\" >0.926300</td>\n",
              "      <td id=\"T_7e572_row1_col3\" class=\"data row1 col3\" >1645.000000</td>\n",
              "    </tr>\n",
              "    <tr>\n",
              "      <th id=\"T_7e572_level0_row2\" class=\"row_heading level0 row2\" >accuracy</th>\n",
              "      <td id=\"T_7e572_row2_col0\" class=\"data row2 col0\" >0.896000</td>\n",
              "      <td id=\"T_7e572_row2_col1\" class=\"data row2 col1\" >0.896000</td>\n",
              "      <td id=\"T_7e572_row2_col2\" class=\"data row2 col2\" >0.896000</td>\n",
              "      <td id=\"T_7e572_row2_col3\" class=\"data row2 col3\" >0.896000</td>\n",
              "    </tr>\n",
              "    <tr>\n",
              "      <th id=\"T_7e572_level0_row3\" class=\"row_heading level0 row3\" >macro avg</th>\n",
              "      <td id=\"T_7e572_row3_col0\" class=\"data row3 col0\" >0.880400</td>\n",
              "      <td id=\"T_7e572_row3_col1\" class=\"data row3 col1\" >0.870000</td>\n",
              "      <td id=\"T_7e572_row3_col2\" class=\"data row3 col2\" >0.874900</td>\n",
              "      <td id=\"T_7e572_row3_col3\" class=\"data row3 col3\" >2356.000000</td>\n",
              "    </tr>\n",
              "    <tr>\n",
              "      <th id=\"T_7e572_level0_row4\" class=\"row_heading level0 row4\" >weighted avg</th>\n",
              "      <td id=\"T_7e572_row4_col0\" class=\"data row4 col0\" >0.895000</td>\n",
              "      <td id=\"T_7e572_row4_col1\" class=\"data row4 col1\" >0.896000</td>\n",
              "      <td id=\"T_7e572_row4_col2\" class=\"data row4 col2\" >0.895300</td>\n",
              "      <td id=\"T_7e572_row4_col3\" class=\"data row4 col3\" >2356.000000</td>\n",
              "    </tr>\n",
              "  </tbody>\n",
              "</table>\n"
            ]
          },
          "metadata": {},
          "execution_count": 68
        }
      ],
      "source": [
        "# Predict using training and testing data and display the accuracy, f-1 score, precision for Positive and Negative Sentiment Classifiers\n",
        "svr_lin.fit(X_train_tvec, Y_train)\n",
        "svr_lin_predictions = svr_lin.predict(tvec.transform(X_test_cleaned))\n",
        "report = classification_report(Y_test,svr_lin_predictions, output_dict=True)\n",
        "data_report = pd.DataFrame(report).transpose().round(4)\n",
        "cm = sns.light_palette(\"yellow\", as_cmap=True)\n",
        "data_report.style.background_gradient(cmap=cm)"
      ]
    },
    {
      "cell_type": "code",
      "execution_count": null,
      "metadata": {
        "colab": {
          "base_uri": "https://localhost:8080/",
          "height": 472
        },
        "id": "b6R1ObNMFtyd",
        "outputId": "c232b5d4-8ca8-4a97-c857-d3e0d34abe5e"
      },
      "outputs": [
        {
          "output_type": "display_data",
          "data": {
            "text/plain": [
              "<Figure size 640x480 with 2 Axes>"
            ],
            "image/png": "[encoded data removed]"
          },
          "metadata": {}
        }
      ],
      "source": [
        "# confusion matrix\n",
        "svr_lin_predictions=svr_lin.predict(tvec.transform(X_test_cleaned))\n",
        "ax= plt.subplot()\n",
        "cm=confusion_matrix(Y_test,svr_lin_predictions)\n",
        "sns.heatmap(cm, annot=True, fmt='g', ax=ax,cmap='Greens');\n",
        "ax.set_xlabel('Predicted labels');ax.set_ylabel('True labels');\n",
        "ax.set_title('Confusion Matrix');\n",
        "ax.xaxis.set_ticklabels(['negative', 'positive']); ax.yaxis.set_ticklabels(['negative', 'positive']);"
      ]
    },
    {
      "cell_type": "code",
      "execution_count": null,
      "metadata": {
        "colab": {
          "base_uri": "https://localhost:8080/"
        },
        "id": "uR7fQCBqFv1O",
        "outputId": "7a4901b8-12b0-4ad6-bb4a-379519ffcb0a"
      },
      "outputs": [
        {
          "output_type": "stream",
          "name": "stdout",
          "text": [
            "[0]\n"
          ]
        }
      ],
      "source": [
        "# testing the model with sample 'Negative' review\n",
        "demo_review = np.array(['three days of use and it broke very disappointed in this product it worked perfectly for exactly three days and could not be resuscitated it was very inexpensive so i did not want to pay half again the price to ship it back for an exchange so the company would do nothing when they sent me an inquiry as to product satisfaction'])\n",
        "demo_review_X_test = tvec.transform(demo_review)\n",
        "print(svr_lin.predict(demo_review_X_test))\n",
        "\n",
        "# expected output = 0 (Negative)\n",
        "# actual output = 0 (Negative)"
      ]
    },
    {
      "cell_type": "code",
      "execution_count": null,
      "metadata": {
        "colab": {
          "base_uri": "https://localhost:8080/"
        },
        "id": "oQ9nBhXdFx4V",
        "outputId": "c6cd69c1-fd5d-4b9d-9f6c-59fcb122d482"
      },
      "outputs": [
        {
          "output_type": "stream",
          "name": "stdout",
          "text": [
            "[1]\n"
          ]
        }
      ],
      "source": [
        "# testing the model with sample 'Positive' review\n",
        "demo_review_2 = np.array(['Excellent product. Works well and performs as expected.'])\n",
        "demo_review_X_test_2 = tvec.transform(demo_review_2)\n",
        "print(svr_lin.predict(demo_review_X_test_2))\n",
        "\n",
        "# expected output = 1 (Positive)\n",
        "# actual output = 1 (Positive)"
      ]
    },
    {
      "cell_type": "code",
      "execution_count": null,
      "metadata": {
        "colab": {
          "base_uri": "https://localhost:8080/"
        },
        "id": "pgmPWsAxF0o9",
        "outputId": "af358c73-72aa-4bf6-d6cd-99f7519dd3f9"
      },
      "outputs": [
        {
          "output_type": "stream",
          "name": "stdout",
          "text": [
            "4-Fold Cross-Validation Results:\n",
            "   Accuracy  Precision    Recall  F1 Score\n",
            "1  0.846774   0.849209  0.785740  0.806675\n",
            "2  0.849745   0.845930  0.785244  0.806279\n",
            "3  0.846350   0.850304  0.775412  0.799162\n",
            "4  0.846709   0.849072  0.788565  0.808676\n",
            "\n",
            "Mean Scores for 4-Fold Cross-Validation:\n",
            "Mean Accuracy: 0.847394599865186\n",
            "Mean Precision: 0.8486284435641696\n",
            "Mean Recall: 0.7837401090313723\n",
            "Mean F1 Score: 0.8051978606629093\n",
            "\n",
            "10-Fold Cross-Validation Results:\n",
            "    Accuracy  Precision    Recall  F1 Score\n",
            "1   0.853659   0.844036  0.798780  0.815914\n",
            "2   0.818664   0.813704  0.750776  0.769932\n",
            "3   0.846235   0.835218  0.785794  0.803937\n",
            "4   0.855626   0.863703  0.795250  0.817625\n",
            "5   0.846072   0.835461  0.789070  0.806265\n",
            "6   0.840764   0.851006  0.785381  0.805308\n",
            "7   0.855626   0.847113  0.771103  0.797075\n",
            "8   0.851380   0.852707  0.789510  0.810862\n",
            "9   0.841826   0.851234  0.770072  0.794243\n",
            "10  0.836518   0.836650  0.783394  0.800993\n",
            "\n",
            "Mean Scores for 10-Fold Cross-Validation:\n",
            "Mean Accuracy: 0.8446370957755548\n",
            "Mean Precision: 0.8430831847394746\n",
            "Mean Recall: 0.7819130621181865\n",
            "Mean F1 Score: 0.8022154558759713\n"
          ]
        }
      ],
      "source": [
        "# Random Forest model\n",
        "random_forest = RandomForestClassifier(n_estimators=20,random_state=42)\n",
        "\n",
        "# Perform 4-fold cross-validation\n",
        "kf_4 = KFold(n_splits=4, shuffle=True, random_state=42)\n",
        "cv_scores_4 = cross_val_score(random_forest, X_train_tvec, Y_train, cv=kf_4, scoring='accuracy')\n",
        "\n",
        "# Create a DataFrame to store cross-validation results\n",
        "cv_results_4 = pd.DataFrame(index=range(1, 5))\n",
        "cv_results_4['Accuracy'] = cv_scores_4\n",
        "cv_results_4['Precision'] = cross_val_score(random_forest, X_train_tvec, Y_train, cv=kf_4, scoring='precision_macro')\n",
        "cv_results_4['Recall'] = cross_val_score(random_forest, X_train_tvec, Y_train, cv=kf_4, scoring='recall_macro')\n",
        "cv_results_4['F1 Score'] = cross_val_score(random_forest, X_train_tvec, Y_train, cv=kf_4, scoring='f1_macro')\n",
        "\n",
        "# Print 4-fold cross-validation results\n",
        "print(\"4-Fold Cross-Validation Results:\")\n",
        "print(cv_results_4)\n",
        "\n",
        "# Calculate and print mean scores for 4-fold cross-validation\n",
        "print(\"\\nMean Scores for 4-Fold Cross-Validation:\")\n",
        "print(\"Mean Accuracy:\", cv_scores_4.mean())\n",
        "print(\"Mean Precision:\", cv_results_4['Precision'].mean())\n",
        "print(\"Mean Recall:\", cv_results_4['Recall'].mean())\n",
        "print(\"Mean F1 Score:\", cv_results_4['F1 Score'].mean())\n",
        "\n",
        "# Perform 10-fold cross-validation\n",
        "kf_10 = KFold(n_splits=10, shuffle=True, random_state=42)\n",
        "cv_scores_10 = cross_val_score(random_forest, X_train_tvec, Y_train, cv=kf_10, scoring='accuracy')\n",
        "\n",
        "# Create a DataFrame to store cross-validation results\n",
        "cv_results_10 = pd.DataFrame(index=range(1, 11))\n",
        "cv_results_10['Accuracy'] = cv_scores_10\n",
        "cv_results_10['Precision'] = cross_val_score(random_forest, X_train_tvec, Y_train, cv=kf_10, scoring='precision_macro')\n",
        "cv_results_10['Recall'] = cross_val_score(random_forest, X_train_tvec, Y_train, cv=kf_10, scoring='recall_macro')\n",
        "cv_results_10['F1 Score'] = cross_val_score(random_forest, X_train_tvec, Y_train, cv=kf_10, scoring='f1_macro')\n",
        "\n",
        "# Print 10-fold cross-validation results\n",
        "print(\"\\n10-Fold Cross-Validation Results:\")\n",
        "print(cv_results_10)\n",
        "\n",
        "# Calculate and print mean scores for 10-fold cross-validation\n",
        "print(\"\\nMean Scores for 10-Fold Cross-Validation:\")\n",
        "print(\"Mean Accuracy:\", cv_scores_10.mean())\n",
        "print(\"Mean Precision:\", cv_results_10['Precision'].mean())\n",
        "print(\"Mean Recall:\", cv_results_10['Recall'].mean())\n",
        "print(\"Mean F1 Score:\", cv_results_10['F1 Score'].mean())\n"
      ]
    },
    {
      "cell_type": "code",
      "execution_count": null,
      "metadata": {
        "colab": {
          "base_uri": "https://localhost:8080/",
          "height": 206
        },
        "id": "Tqe_zq7RF1kl",
        "outputId": "0f0ecf10-2ad4-4865-9120-13e491683c80"
      },
      "outputs": [
        {
          "output_type": "execute_result",
          "data": {
            "text/plain": [
              "<pandas.io.formats.style.Styler at 0x7e19dd4c6350>"
            ],
            "text/html": [
              "<style type=\"text/css\">\n",
              "#T_fb968_row0_col0, #T_fb968_row0_col1, #T_fb968_row0_col2, #T_fb968_row2_col3 {\n",
              "  background-color: #f3f0f0;\n",
              "  color: #000000;\n",
              "}\n",
              "#T_fb968_row0_col3 {\n",
              "  background-color: #f7a8a7;\n",
              "  color: #000000;\n",
              "}\n",
              "#T_fb968_row1_col0, #T_fb968_row1_col1, #T_fb968_row1_col2, #T_fb968_row3_col3, #T_fb968_row4_col3 {\n",
              "  background-color: #ff0000;\n",
              "  color: #f1f1f1;\n",
              "}\n",
              "#T_fb968_row1_col3, #T_fb968_row2_col1, #T_fb968_row4_col0, #T_fb968_row4_col1, #T_fb968_row4_col2 {\n",
              "  background-color: #fb4848;\n",
              "  color: #f1f1f1;\n",
              "}\n",
              "#T_fb968_row2_col0 {\n",
              "  background-color: #fc3939;\n",
              "  color: #f1f1f1;\n",
              "}\n",
              "#T_fb968_row2_col2 {\n",
              "  background-color: #fc4141;\n",
              "  color: #f1f1f1;\n",
              "}\n",
              "#T_fb968_row3_col0, #T_fb968_row3_col1, #T_fb968_row3_col2 {\n",
              "  background-color: #f97878;\n",
              "  color: #f1f1f1;\n",
              "}\n",
              "</style>\n",
              "<table id=\"T_fb968\" class=\"dataframe\">\n",
              "  <thead>\n",
              "    <tr>\n",
              "      <th class=\"blank level0\" >&nbsp;</th>\n",
              "      <th id=\"T_fb968_level0_col0\" class=\"col_heading level0 col0\" >precision</th>\n",
              "      <th id=\"T_fb968_level0_col1\" class=\"col_heading level0 col1\" >recall</th>\n",
              "      <th id=\"T_fb968_level0_col2\" class=\"col_heading level0 col2\" >f1-score</th>\n",
              "      <th id=\"T_fb968_level0_col3\" class=\"col_heading level0 col3\" >support</th>\n",
              "    </tr>\n",
              "  </thead>\n",
              "  <tbody>\n",
              "    <tr>\n",
              "      <th id=\"T_fb968_level0_row0\" class=\"row_heading level0 row0\" >0</th>\n",
              "      <td id=\"T_fb968_row0_col0\" class=\"data row0 col0\" >0.844400</td>\n",
              "      <td id=\"T_fb968_row0_col1\" class=\"data row0 col1\" >0.663900</td>\n",
              "      <td id=\"T_fb968_row0_col2\" class=\"data row0 col2\" >0.743300</td>\n",
              "      <td id=\"T_fb968_row0_col3\" class=\"data row0 col3\" >711.000000</td>\n",
              "    </tr>\n",
              "    <tr>\n",
              "      <th id=\"T_fb968_level0_row1\" class=\"row_heading level0 row1\" >1</th>\n",
              "      <td id=\"T_fb968_row1_col0\" class=\"data row1 col0\" >0.867000</td>\n",
              "      <td id=\"T_fb968_row1_col1\" class=\"data row1 col1\" >0.947100</td>\n",
              "      <td id=\"T_fb968_row1_col2\" class=\"data row1 col2\" >0.905300</td>\n",
              "      <td id=\"T_fb968_row1_col3\" class=\"data row1 col3\" >1645.000000</td>\n",
              "    </tr>\n",
              "    <tr>\n",
              "      <th id=\"T_fb968_level0_row2\" class=\"row_heading level0 row2\" >accuracy</th>\n",
              "      <td id=\"T_fb968_row2_col0\" class=\"data row2 col0\" >0.861600</td>\n",
              "      <td id=\"T_fb968_row2_col1\" class=\"data row2 col1\" >0.861600</td>\n",
              "      <td id=\"T_fb968_row2_col2\" class=\"data row2 col2\" >0.861600</td>\n",
              "      <td id=\"T_fb968_row2_col3\" class=\"data row2 col3\" >0.861600</td>\n",
              "    </tr>\n",
              "    <tr>\n",
              "      <th id=\"T_fb968_level0_row3\" class=\"row_heading level0 row3\" >macro avg</th>\n",
              "      <td id=\"T_fb968_row3_col0\" class=\"data row3 col0\" >0.855700</td>\n",
              "      <td id=\"T_fb968_row3_col1\" class=\"data row3 col1\" >0.805500</td>\n",
              "      <td id=\"T_fb968_row3_col2\" class=\"data row3 col2\" >0.824300</td>\n",
              "      <td id=\"T_fb968_row3_col3\" class=\"data row3 col3\" >2356.000000</td>\n",
              "    </tr>\n",
              "    <tr>\n",
              "      <th id=\"T_fb968_level0_row4\" class=\"row_heading level0 row4\" >weighted avg</th>\n",
              "      <td id=\"T_fb968_row4_col0\" class=\"data row4 col0\" >0.860200</td>\n",
              "      <td id=\"T_fb968_row4_col1\" class=\"data row4 col1\" >0.861600</td>\n",
              "      <td id=\"T_fb968_row4_col2\" class=\"data row4 col2\" >0.856400</td>\n",
              "      <td id=\"T_fb968_row4_col3\" class=\"data row4 col3\" >2356.000000</td>\n",
              "    </tr>\n",
              "  </tbody>\n",
              "</table>\n"
            ]
          },
          "metadata": {},
          "execution_count": 75
        }
      ],
      "source": [
        "# Predict using training and testing data and display the accuracy, f-1 score, precision for Positive and Negative Sentiment Classifiers\n",
        "random_forest.fit(X_train_tvec, Y_train)\n",
        "ranfrst_predictions = random_forest.predict(tvec.transform(X_test_cleaned))\n",
        "report = classification_report(Y_test,ranfrst_predictions, output_dict=True)\n",
        "data_report = pd.DataFrame(report).transpose().round(4)\n",
        "cm = sns.light_palette(\"red\", as_cmap=True)\n",
        "data_report.style.background_gradient(cmap=cm)"
      ]
    },
    {
      "cell_type": "code",
      "execution_count": null,
      "metadata": {
        "colab": {
          "base_uri": "https://localhost:8080/",
          "height": 472
        },
        "id": "OeeMQh4bF3vl",
        "outputId": "e0b70009-b518-42f3-a62d-a0f7bb264028"
      },
      "outputs": [
        {
          "output_type": "display_data",
          "data": {
            "text/plain": [
              "<Figure size 640x480 with 2 Axes>"
            ],
            "image/png": "[encoded data removed]"
          },
          "metadata": {}
        }
      ],
      "source": [
        "# confusion matrix\n",
        "ranfrst_predictions=random_forest.predict(tvec.transform(X_test_cleaned))\n",
        "ax= plt.subplot()\n",
        "cm=confusion_matrix(Y_test,ranfrst_predictions)\n",
        "sns.heatmap(cm, annot=True, fmt='g', ax=ax,cmap='Oranges');\n",
        "ax.set_xlabel('Predicted labels');ax.set_ylabel('True labels');\n",
        "ax.set_title('Confusion Matrix');\n",
        "ax.xaxis.set_ticklabels(['negative', 'positive']); ax.yaxis.set_ticklabels(['negative', 'positive']);"
      ]
    },
    {
      "cell_type": "code",
      "execution_count": null,
      "metadata": {
        "colab": {
          "base_uri": "https://localhost:8080/"
        },
        "id": "6GTQURfWF6GN",
        "outputId": "257e0bd0-2c35-4dca-e20b-2b4acac5a03a"
      },
      "outputs": [
        {
          "output_type": "stream",
          "name": "stdout",
          "text": [
            "[0]\n"
          ]
        }
      ],
      "source": [
        "# testing the model with sample 'Negative' review\n",
        "demo_review = np.array(['Do not buy. Fake Product.'])\n",
        "demo_review_X_test = tvec.transform(demo_review)\n",
        "print(random_forest.predict(demo_review_X_test))\n",
        "\n",
        "# expected output = 0 (Negative)\n",
        "# actual output = 0 (Negative)"
      ]
    },
    {
      "cell_type": "code",
      "execution_count": null,
      "metadata": {
        "colab": {
          "base_uri": "https://localhost:8080/"
        },
        "id": "87FLG2rrF931",
        "outputId": "81242620-28a0-4567-db65-5f33c0309539"
      },
      "outputs": [
        {
          "output_type": "stream",
          "name": "stdout",
          "text": [
            "[1]\n"
          ]
        }
      ],
      "source": [
        "# testing the model with sample 'Positive' review\n",
        "demo_review_2 = np.array(['Original Product. Great Performance.'])\n",
        "demo_review_X_test_2 = tvec.transform(demo_review_2)\n",
        "print(random_forest.predict(demo_review_X_test_2))\n",
        "\n",
        "# expected output = 1 (Positive)\n",
        "# actual output = 1 (Positive)"
      ]
    },
    {
      "cell_type": "code",
      "execution_count": null,
      "metadata": {
        "id": "E_MuzwQuGMlF",
        "colab": {
          "base_uri": "https://localhost:8080/"
        },
        "outputId": "2edd02c8-15cd-437d-9932-c573be33bced"
      },
      "outputs": [
        {
          "output_type": "stream",
          "name": "stdout",
          "text": [
            "4-Fold Cross-Validation Results for Logistic Regression Classifier:\n",
            "   Accuracy  Precision    Recall  F1 Score\n",
            "1  0.875637   0.870820  0.834404  0.849034\n",
            "2  0.891766   0.889630  0.847999  0.864876\n",
            "3  0.888795   0.892553  0.839655  0.859897\n",
            "4  0.878132   0.876173  0.837414  0.852734\n",
            "\n",
            "Mean Scores for 4-Fold Cross-Validation:\n",
            "Mean Accuracy: 0.883582144698092\n",
            "Mean Precision: 0.8822940731685639\n",
            "Mean Recall: 0.8398678334338834\n",
            "Mean F1 Score: 0.8566351448717892\n",
            "\n",
            "10-Fold Cross-Validation Results for Logistic Regression Classifier:\n",
            "    Accuracy  Precision    Recall  F1 Score\n",
            "1   0.888653   0.879904  0.851372  0.863622\n",
            "2   0.869565   0.868611  0.822981  0.840243\n",
            "3   0.871686   0.861553  0.825042  0.839934\n",
            "4   0.902335   0.903337  0.867272  0.882132\n",
            "5   0.888535   0.885626  0.845884  0.862011\n",
            "6   0.882166   0.889434  0.843172  0.860255\n",
            "7   0.897028   0.891078  0.841153  0.861520\n",
            "8   0.891720   0.898937  0.844204  0.864854\n",
            "9   0.888535   0.886459  0.847965  0.863564\n",
            "10  0.883227   0.879538  0.851687  0.863256\n",
            "\n",
            "Mean Scores for 10-Fold Cross-Validation:\n",
            "Mean Accuracy: 0.8863450207473551\n",
            "Mean Precision: 0.8844477964628951\n",
            "Mean Recall: 0.8440734658658486\n",
            "Mean F1 Score: 0.8601389931082334\n"
          ]
        }
      ],
      "source": [
        "# Define the Logistic Regression model\n",
        "logistic_classifier = LogisticRegression(random_state=42)\n",
        "\n",
        "# Perform 4-fold cross-validation\n",
        "kf_4 = KFold(n_splits=4, shuffle=True, random_state=42)\n",
        "cv_scores_4 = cross_val_score(logistic_classifier, X_train_tvec, Y_train, cv=kf_4, scoring='accuracy')\n",
        "\n",
        "# Create a DataFrame to store cross-validation results\n",
        "cv_results_4 = pd.DataFrame(index=range(1, 5))\n",
        "cv_results_4['Accuracy'] = cv_scores_4\n",
        "cv_results_4['Precision'] = cross_val_score(logistic_classifier, X_train_tvec, Y_train, cv=kf_4, scoring='precision_macro')\n",
        "cv_results_4['Recall'] = cross_val_score(logistic_classifier, X_train_tvec, Y_train, cv=kf_4, scoring='recall_macro')\n",
        "cv_results_4['F1 Score'] = cross_val_score(logistic_classifier, X_train_tvec, Y_train, cv=kf_4, scoring='f1_macro')\n",
        "\n",
        "# Print 4-fold cross-validation results\n",
        "print(\"4-Fold Cross-Validation Results for Logistic Regression Classifier:\")\n",
        "print(cv_results_4)\n",
        "\n",
        "# Calculate and print mean scores for 4-fold cross-validation\n",
        "print(\"\\nMean Scores for 4-Fold Cross-Validation:\")\n",
        "print(\"Mean Accuracy:\", cv_scores_4.mean())\n",
        "print(\"Mean Precision:\", cv_results_4['Precision'].mean())\n",
        "print(\"Mean Recall:\", cv_results_4['Recall'].mean())\n",
        "print(\"Mean F1 Score:\", cv_results_4['F1 Score'].mean())\n",
        "\n",
        "# Perform 10-fold cross-validation\n",
        "kf_10 = KFold(n_splits=10, shuffle=True, random_state=42)\n",
        "cv_scores_10 = cross_val_score(logistic_classifier, X_train_tvec, Y_train, cv=kf_10, scoring='accuracy')\n",
        "\n",
        "# Create a DataFrame to store cross-validation results\n",
        "cv_results_10 = pd.DataFrame(index=range(1, 11))\n",
        "cv_results_10['Accuracy'] = cv_scores_10\n",
        "cv_results_10['Precision'] = cross_val_score(logistic_classifier, X_train_tvec, Y_train, cv=kf_10, scoring='precision_macro')\n",
        "cv_results_10['Recall'] = cross_val_score(logistic_classifier, X_train_tvec, Y_train, cv=kf_10, scoring='recall_macro')\n",
        "cv_results_10['F1 Score'] = cross_val_score(logistic_classifier, X_train_tvec, Y_train, cv=kf_10, scoring='f1_macro')\n",
        "\n",
        "# Print 10-fold cross-validation results\n",
        "print(\"\\n10-Fold Cross-Validation Results for Logistic Regression Classifier:\")\n",
        "print(cv_results_10)\n",
        "\n",
        "# Calculate and print mean scores for 10-fold cross-validation\n",
        "print(\"\\nMean Scores for 10-Fold Cross-Validation:\")\n",
        "print(\"Mean Accuracy:\", cv_scores_10.mean())\n",
        "print(\"Mean Precision:\", cv_results_10['Precision'].mean())\n",
        "print(\"Mean Recall:\", cv_results_10['Recall'].mean())\n",
        "print(\"Mean F1 Score:\", cv_results_10['F1 Score'].mean())\n"
      ]
    },
    {
      "cell_type": "code",
      "execution_count": null,
      "metadata": {
        "id": "KLF8ccKdGPZd",
        "colab": {
          "base_uri": "https://localhost:8080/",
          "height": 206
        },
        "outputId": "cc260e7a-727a-4f71-e88f-14c03b08bc03"
      },
      "outputs": [
        {
          "output_type": "execute_result",
          "data": {
            "text/plain": [
              "<pandas.io.formats.style.Styler at 0x7e19dd59f520>"
            ],
            "text/html": [
              "<style type=\"text/css\">\n",
              "#T_714ec_row0_col0, #T_714ec_row0_col1, #T_714ec_row0_col2, #T_714ec_row2_col3 {\n",
              "  background-color: #f3f0f3;\n",
              "  color: #000000;\n",
              "}\n",
              "#T_714ec_row0_col3 {\n",
              "  background-color: #d0a7d0;\n",
              "  color: #000000;\n",
              "}\n",
              "#T_714ec_row1_col0, #T_714ec_row1_col1, #T_714ec_row1_col2, #T_714ec_row3_col3, #T_714ec_row4_col3 {\n",
              "  background-color: #800080;\n",
              "  color: #f1f1f1;\n",
              "}\n",
              "#T_714ec_row1_col3, #T_714ec_row2_col1, #T_714ec_row4_col0, #T_714ec_row4_col1, #T_714ec_row4_col2 {\n",
              "  background-color: #a348a3;\n",
              "  color: #f1f1f1;\n",
              "}\n",
              "#T_714ec_row2_col0 {\n",
              "  background-color: #9e3f9e;\n",
              "  color: #f1f1f1;\n",
              "}\n",
              "#T_714ec_row2_col2 {\n",
              "  background-color: #a044a0;\n",
              "  color: #f1f1f1;\n",
              "}\n",
              "#T_714ec_row3_col0 {\n",
              "  background-color: #ba78ba;\n",
              "  color: #f1f1f1;\n",
              "}\n",
              "#T_714ec_row3_col1, #T_714ec_row3_col2 {\n",
              "  background-color: #b977b9;\n",
              "  color: #f1f1f1;\n",
              "}\n",
              "</style>\n",
              "<table id=\"T_714ec\" class=\"dataframe\">\n",
              "  <thead>\n",
              "    <tr>\n",
              "      <th class=\"blank level0\" >&nbsp;</th>\n",
              "      <th id=\"T_714ec_level0_col0\" class=\"col_heading level0 col0\" >precision</th>\n",
              "      <th id=\"T_714ec_level0_col1\" class=\"col_heading level0 col1\" >recall</th>\n",
              "      <th id=\"T_714ec_level0_col2\" class=\"col_heading level0 col2\" >f1-score</th>\n",
              "      <th id=\"T_714ec_level0_col3\" class=\"col_heading level0 col3\" >support</th>\n",
              "    </tr>\n",
              "  </thead>\n",
              "  <tbody>\n",
              "    <tr>\n",
              "      <th id=\"T_714ec_level0_row0\" class=\"row_heading level0 row0\" >0</th>\n",
              "      <td id=\"T_714ec_row0_col0\" class=\"data row0 col0\" >0.876200</td>\n",
              "      <td id=\"T_714ec_row0_col1\" class=\"data row0 col1\" >0.766500</td>\n",
              "      <td id=\"T_714ec_row0_col2\" class=\"data row0 col2\" >0.817700</td>\n",
              "      <td id=\"T_714ec_row0_col3\" class=\"data row0 col3\" >711.000000</td>\n",
              "    </tr>\n",
              "    <tr>\n",
              "      <th id=\"T_714ec_level0_row1\" class=\"row_heading level0 row1\" >1</th>\n",
              "      <td id=\"T_714ec_row1_col0\" class=\"data row1 col0\" >0.904300</td>\n",
              "      <td id=\"T_714ec_row1_col1\" class=\"data row1 col1\" >0.953200</td>\n",
              "      <td id=\"T_714ec_row1_col2\" class=\"data row1 col2\" >0.928100</td>\n",
              "      <td id=\"T_714ec_row1_col3\" class=\"data row1 col3\" >1645.000000</td>\n",
              "    </tr>\n",
              "    <tr>\n",
              "      <th id=\"T_714ec_level0_row2\" class=\"row_heading level0 row2\" >accuracy</th>\n",
              "      <td id=\"T_714ec_row2_col0\" class=\"data row2 col0\" >0.896900</td>\n",
              "      <td id=\"T_714ec_row2_col1\" class=\"data row2 col1\" >0.896900</td>\n",
              "      <td id=\"T_714ec_row2_col2\" class=\"data row2 col2\" >0.896900</td>\n",
              "      <td id=\"T_714ec_row2_col3\" class=\"data row2 col3\" >0.896900</td>\n",
              "    </tr>\n",
              "    <tr>\n",
              "      <th id=\"T_714ec_level0_row3\" class=\"row_heading level0 row3\" >macro avg</th>\n",
              "      <td id=\"T_714ec_row3_col0\" class=\"data row3 col0\" >0.890200</td>\n",
              "      <td id=\"T_714ec_row3_col1\" class=\"data row3 col1\" >0.859900</td>\n",
              "      <td id=\"T_714ec_row3_col2\" class=\"data row3 col2\" >0.872900</td>\n",
              "      <td id=\"T_714ec_row3_col3\" class=\"data row3 col3\" >2356.000000</td>\n",
              "    </tr>\n",
              "    <tr>\n",
              "      <th id=\"T_714ec_level0_row4\" class=\"row_heading level0 row4\" >weighted avg</th>\n",
              "      <td id=\"T_714ec_row4_col0\" class=\"data row4 col0\" >0.895800</td>\n",
              "      <td id=\"T_714ec_row4_col1\" class=\"data row4 col1\" >0.896900</td>\n",
              "      <td id=\"T_714ec_row4_col2\" class=\"data row4 col2\" >0.894800</td>\n",
              "      <td id=\"T_714ec_row4_col3\" class=\"data row4 col3\" >2356.000000</td>\n",
              "    </tr>\n",
              "  </tbody>\n",
              "</table>\n"
            ]
          },
          "metadata": {},
          "execution_count": 85
        }
      ],
      "source": [
        "# Predict using training and testing data and display the accuracy, f-1 score, precision for Positive and Negative Sentiment Classifiers\n",
        "lr = LogisticRegression(random_state=42)\n",
        "lr.fit(X_train_tvec, Y_train)\n",
        "lr_predictions = lr.predict(tvec.transform(X_test_cleaned))\n",
        "report = classification_report(Y_test,lr_predictions, output_dict=True)\n",
        "data_report = pd.DataFrame(report).transpose().round(4)\n",
        "cm = sns.light_palette(\"purple\", as_cmap=True)\n",
        "data_report.style.background_gradient(cmap=cm)"
      ]
    },
    {
      "cell_type": "code",
      "execution_count": null,
      "metadata": {
        "id": "suDmFxHlGRq9",
        "colab": {
          "base_uri": "https://localhost:8080/",
          "height": 472
        },
        "outputId": "dbde6fa5-b08b-4168-c857-a71b126135b7"
      },
      "outputs": [
        {
          "output_type": "display_data",
          "data": {
            "text/plain": [
              "<Figure size 640x480 with 2 Axes>"
            ],
            "image/png": "[encoded data removed]"
          },
          "metadata": {}
        }
      ],
      "source": [
        "# confusion matrix\n",
        "lr_predictions=lr.predict(tvec.transform(X_test_cleaned))\n",
        "ax= plt.subplot()\n",
        "cm=confusion_matrix(Y_test,lr_predictions)\n",
        "sns.heatmap(cm, annot=True, fmt='g', ax=ax,cmap='Reds');\n",
        "ax.set_xlabel('Predicted labels');ax.set_ylabel('True labels');\n",
        "ax.set_title('Confusion Matrix');\n",
        "ax.xaxis.set_ticklabels(['negative', 'positive']); ax.yaxis.set_ticklabels(['negative', 'positive']);"
      ]
    },
    {
      "cell_type": "code",
      "execution_count": null,
      "metadata": {
        "id": "mePb6yh4GUB1",
        "colab": {
          "base_uri": "https://localhost:8080/"
        },
        "outputId": "42b54d8d-0711-4dd8-be9e-ff916632a9dc"
      },
      "outputs": [
        {
          "output_type": "stream",
          "name": "stdout",
          "text": [
            "[0]\n"
          ]
        }
      ],
      "source": [
        "# testing the model with sample 'Negative' review\n",
        "demo_review = np.array(['Poor quality. Faulty device.'])\n",
        "demo_review_X_test = tvec.transform(demo_review)\n",
        "print(lr.predict(demo_review_X_test))\n",
        "\n",
        "# expected output = 0 (Negative)\n",
        "# actual output = 0 (Negative)"
      ]
    },
    {
      "cell_type": "code",
      "execution_count": null,
      "metadata": {
        "id": "e6UMGPPvGWRF",
        "colab": {
          "base_uri": "https://localhost:8080/"
        },
        "outputId": "dc9eeaf4-239d-4c23-9e93-7d5c4e0a63b6"
      },
      "outputs": [
        {
          "output_type": "stream",
          "name": "stdout",
          "text": [
            "[1]\n"
          ]
        }
      ],
      "source": [
        "# testing the model with sample 'Positive' review\n",
        "demo_review_2 = np.array(['Best product.'])\n",
        "demo_review_X_test_2 = tvec.transform(demo_review_2)\n",
        "print(lr.predict(demo_review_X_test_2))\n",
        "\n",
        "# expected output = 1 (Positive)\n",
        "# actual output = 1 (Positive)"
      ]
    },
    {
      "cell_type": "code",
      "execution_count": null,
      "metadata": {
        "id": "DMQT_UOIGYHN",
        "colab": {
          "base_uri": "https://localhost:8080/"
        },
        "outputId": "b7805907-a39d-4bf1-ff06-0a7e9860e01a"
      },
      "outputs": [
        {
          "output_type": "stream",
          "name": "stdout",
          "text": [
            "4-Fold Cross-Validation Results for Multinomial Naive Bayes Classifier:\n",
            "   Accuracy  Precision    Recall  F1 Score\n",
            "1  0.774618   0.843646  0.648835  0.660234\n",
            "2  0.789898   0.857502  0.657961  0.675467\n",
            "3  0.784380   0.866865  0.648492  0.662449\n",
            "4  0.769002   0.847045  0.642887  0.651098\n",
            "\n",
            "Mean Scores for 4-Fold Cross-Validation:\n",
            "Mean Accuracy: 0.7794746394443063\n",
            "Mean Precision: 0.8537644639421593\n",
            "Mean Recall: 0.6495438121214783\n",
            "Mean F1 Score: 0.6623119735632733\n",
            "\n",
            "10-Fold Cross-Validation Results for Multinomial Naive Bayes Classifier:\n",
            "    Accuracy  Precision    Recall  F1 Score\n",
            "1   0.806999   0.867821  0.688807  0.713349\n",
            "2   0.775186   0.825754  0.656235  0.669648\n",
            "3   0.797455   0.869153  0.667740  0.688324\n",
            "4   0.809979   0.867380  0.705975  0.730747\n",
            "5   0.785563   0.845308  0.657078  0.673422\n",
            "6   0.787686   0.871229  0.685111  0.701581\n",
            "7   0.808917   0.864036  0.655783  0.679931\n",
            "8   0.801486   0.883950  0.680738  0.702701\n",
            "9   0.796178   0.854297  0.679843  0.700725\n",
            "10  0.772824   0.833629  0.664102  0.676511\n",
            "\n",
            "Mean Scores for 10-Fold Cross-Validation:\n",
            "Mean Accuracy: 0.7942272144959057\n",
            "Mean Precision: 0.8582555756464301\n",
            "Mean Recall: 0.6741411684184963\n",
            "Mean F1 Score: 0.6936937955052637\n"
          ]
        }
      ],
      "source": [
        "from sklearn.naive_bayes import MultinomialNB\n",
        "\n",
        "# Define the Multinomial Naive Bayes classifier model\n",
        "nb_classifier = MultinomialNB()\n",
        "\n",
        "# Perform 4-fold cross-validation\n",
        "kf_4 = KFold(n_splits=4, shuffle=True, random_state=42)\n",
        "cv_scores_4 = cross_val_score(nb_classifier, X_train_tvec, Y_train, cv=kf_4, scoring='accuracy')\n",
        "\n",
        "# Create a DataFrame to store cross-validation results\n",
        "cv_results_4 = pd.DataFrame(index=range(1, 5))\n",
        "cv_results_4['Accuracy'] = cv_scores_4\n",
        "cv_results_4['Precision'] = cross_val_score(nb_classifier, X_train_tvec, Y_train, cv=kf_4, scoring='precision_macro')\n",
        "cv_results_4['Recall'] = cross_val_score(nb_classifier, X_train_tvec, Y_train, cv=kf_4, scoring='recall_macro')\n",
        "cv_results_4['F1 Score'] = cross_val_score(nb_classifier, X_train_tvec, Y_train, cv=kf_4, scoring='f1_macro')\n",
        "\n",
        "# Print 4-fold cross-validation results\n",
        "print(\"4-Fold Cross-Validation Results for Multinomial Naive Bayes Classifier:\")\n",
        "print(cv_results_4)\n",
        "\n",
        "# Calculate and print mean scores for 4-fold cross-validation\n",
        "print(\"\\nMean Scores for 4-Fold Cross-Validation:\")\n",
        "print(\"Mean Accuracy:\", cv_scores_4.mean())\n",
        "print(\"Mean Precision:\", cv_results_4['Precision'].mean())\n",
        "print(\"Mean Recall:\", cv_results_4['Recall'].mean())\n",
        "print(\"Mean F1 Score:\", cv_results_4['F1 Score'].mean())\n",
        "\n",
        "# Perform 10-fold cross-validation\n",
        "kf_10 = KFold(n_splits=10, shuffle=True, random_state=42)\n",
        "cv_scores_10 = cross_val_score(nb_classifier, X_train_tvec, Y_train, cv=kf_10, scoring='accuracy')\n",
        "\n",
        "# Create a DataFrame to store cross-validation results\n",
        "cv_results_10 = pd.DataFrame(index=range(1, 11))\n",
        "cv_results_10['Accuracy'] = cv_scores_10\n",
        "cv_results_10['Precision'] = cross_val_score(nb_classifier, X_train_tvec, Y_train, cv=kf_10, scoring='precision_macro')\n",
        "cv_results_10['Recall'] = cross_val_score(nb_classifier, X_train_tvec, Y_train, cv=kf_10, scoring='recall_macro')\n",
        "cv_results_10['F1 Score'] = cross_val_score(nb_classifier, X_train_tvec, Y_train, cv=kf_10, scoring='f1_macro')\n",
        "\n",
        "# Print 10-fold cross-validation results\n",
        "print(\"\\n10-Fold Cross-Validation Results for Multinomial Naive Bayes Classifier:\")\n",
        "print(cv_results_10)\n",
        "\n",
        "# Calculate and print mean scores for 10-fold cross-validation\n",
        "print(\"\\nMean Scores for 10-Fold Cross-Validation:\")\n",
        "print(\"Mean Accuracy:\", cv_scores_10.mean())\n",
        "print(\"Mean Precision:\", cv_results_10['Precision'].mean())\n",
        "print(\"Mean Recall:\", cv_results_10['Recall'].mean())\n",
        "print(\"Mean F1 Score:\", cv_results_10['F1 Score'].mean())"
      ]
    },
    {
      "cell_type": "code",
      "execution_count": null,
      "metadata": {
        "id": "8dnza70qGafd",
        "colab": {
          "base_uri": "https://localhost:8080/",
          "height": 206
        },
        "outputId": "b37b9e61-9fbb-4010-bae9-2d4a14dd90f5"
      },
      "outputs": [
        {
          "output_type": "execute_result",
          "data": {
            "text/plain": [
              "<pandas.io.formats.style.Styler at 0x7e1a88da3100>"
            ],
            "text/html": [
              "<style type=\"text/css\">\n",
              "#T_260fc_row0_col0, #T_260fc_row1_col1, #T_260fc_row1_col2, #T_260fc_row3_col3, #T_260fc_row4_col3 {\n",
              "  background-color: #0000ff;\n",
              "  color: #f1f1f1;\n",
              "}\n",
              "#T_260fc_row0_col1, #T_260fc_row0_col2, #T_260fc_row1_col0, #T_260fc_row2_col3 {\n",
              "  background-color: #f0f0f3;\n",
              "  color: #000000;\n",
              "}\n",
              "#T_260fc_row0_col3, #T_260fc_row4_col0 {\n",
              "  background-color: #a8a8f6;\n",
              "  color: #000000;\n",
              "}\n",
              "#T_260fc_row1_col3, #T_260fc_row2_col1, #T_260fc_row4_col1, #T_260fc_row4_col2 {\n",
              "  background-color: #4949fb;\n",
              "  color: #f1f1f1;\n",
              "}\n",
              "#T_260fc_row2_col0 {\n",
              "  background-color: #d3d3f4;\n",
              "  color: #000000;\n",
              "}\n",
              "#T_260fc_row2_col2 {\n",
              "  background-color: #3333fc;\n",
              "  color: #f1f1f1;\n",
              "}\n",
              "#T_260fc_row3_col0, #T_260fc_row3_col1, #T_260fc_row3_col2 {\n",
              "  background-color: #7878f9;\n",
              "  color: #f1f1f1;\n",
              "}\n",
              "</style>\n",
              "<table id=\"T_260fc\" class=\"dataframe\">\n",
              "  <thead>\n",
              "    <tr>\n",
              "      <th class=\"blank level0\" >&nbsp;</th>\n",
              "      <th id=\"T_260fc_level0_col0\" class=\"col_heading level0 col0\" >precision</th>\n",
              "      <th id=\"T_260fc_level0_col1\" class=\"col_heading level0 col1\" >recall</th>\n",
              "      <th id=\"T_260fc_level0_col2\" class=\"col_heading level0 col2\" >f1-score</th>\n",
              "      <th id=\"T_260fc_level0_col3\" class=\"col_heading level0 col3\" >support</th>\n",
              "    </tr>\n",
              "  </thead>\n",
              "  <tbody>\n",
              "    <tr>\n",
              "      <th id=\"T_260fc_level0_row0\" class=\"row_heading level0 row0\" >0</th>\n",
              "      <td id=\"T_260fc_row0_col0\" class=\"data row0 col0\" >0.935400</td>\n",
              "      <td id=\"T_260fc_row0_col1\" class=\"data row0 col1\" >0.386800</td>\n",
              "      <td id=\"T_260fc_row0_col2\" class=\"data row0 col2\" >0.547300</td>\n",
              "      <td id=\"T_260fc_row0_col3\" class=\"data row0 col3\" >711.000000</td>\n",
              "    </tr>\n",
              "    <tr>\n",
              "      <th id=\"T_260fc_level0_row1\" class=\"row_heading level0 row1\" >1</th>\n",
              "      <td id=\"T_260fc_row1_col0\" class=\"data row1 col0\" >0.788600</td>\n",
              "      <td id=\"T_260fc_row1_col1\" class=\"data row1 col1\" >0.988400</td>\n",
              "      <td id=\"T_260fc_row1_col2\" class=\"data row1 col2\" >0.877300</td>\n",
              "      <td id=\"T_260fc_row1_col3\" class=\"data row1 col3\" >1645.000000</td>\n",
              "    </tr>\n",
              "    <tr>\n",
              "      <th id=\"T_260fc_level0_row2\" class=\"row_heading level0 row2\" >accuracy</th>\n",
              "      <td id=\"T_260fc_row2_col0\" class=\"data row2 col0\" >0.806900</td>\n",
              "      <td id=\"T_260fc_row2_col1\" class=\"data row2 col1\" >0.806900</td>\n",
              "      <td id=\"T_260fc_row2_col2\" class=\"data row2 col2\" >0.806900</td>\n",
              "      <td id=\"T_260fc_row2_col3\" class=\"data row2 col3\" >0.806900</td>\n",
              "    </tr>\n",
              "    <tr>\n",
              "      <th id=\"T_260fc_level0_row3\" class=\"row_heading level0 row3\" >macro avg</th>\n",
              "      <td id=\"T_260fc_row3_col0\" class=\"data row3 col0\" >0.862000</td>\n",
              "      <td id=\"T_260fc_row3_col1\" class=\"data row3 col1\" >0.687600</td>\n",
              "      <td id=\"T_260fc_row3_col2\" class=\"data row3 col2\" >0.712300</td>\n",
              "      <td id=\"T_260fc_row3_col3\" class=\"data row3 col3\" >2356.000000</td>\n",
              "    </tr>\n",
              "    <tr>\n",
              "      <th id=\"T_260fc_level0_row4\" class=\"row_heading level0 row4\" >weighted avg</th>\n",
              "      <td id=\"T_260fc_row4_col0\" class=\"data row4 col0\" >0.832900</td>\n",
              "      <td id=\"T_260fc_row4_col1\" class=\"data row4 col1\" >0.806900</td>\n",
              "      <td id=\"T_260fc_row4_col2\" class=\"data row4 col2\" >0.777700</td>\n",
              "      <td id=\"T_260fc_row4_col3\" class=\"data row4 col3\" >2356.000000</td>\n",
              "    </tr>\n",
              "  </tbody>\n",
              "</table>\n"
            ]
          },
          "metadata": {},
          "execution_count": 90
        }
      ],
      "source": [
        "# Predict using training and testing data and display the accuracy, f-1 score, precision for Positive and Negative Sentiment Classifiers\n",
        "nbm = MultinomialNB()\n",
        "nbm.fit(X_train_tvec, Y_train)\n",
        "nbm_predictions = nbm.predict(tvec.transform(X_test_cleaned))\n",
        "report = classification_report(Y_test,nbm_predictions, output_dict=True)\n",
        "data_report = pd.DataFrame(report).transpose().round(4)\n",
        "cm = sns.light_palette(\"blue\", as_cmap=True)\n",
        "data_report.style.background_gradient(cmap=cm)"
      ]
    },
    {
      "cell_type": "code",
      "execution_count": null,
      "metadata": {
        "id": "51v84Y9QGctV",
        "colab": {
          "base_uri": "https://localhost:8080/",
          "height": 472
        },
        "outputId": "e6b84a25-2afb-4152-accf-033a31438923"
      },
      "outputs": [
        {
          "output_type": "display_data",
          "data": {
            "text/plain": [
              "<Figure size 640x480 with 2 Axes>"
            ],
            "image/png": "[encoded data removed]"
          },
          "metadata": {}
        }
      ],
      "source": [
        "# confusion matrix\n",
        "nbm_predictions=nbm.predict(tvec.transform(X_test_cleaned))\n",
        "ax= plt.subplot()\n",
        "cm=confusion_matrix(Y_test,nbm_predictions)\n",
        "sns.heatmap(cm, annot=True, fmt='g', ax=ax,cmap='Purples');\n",
        "ax.set_xlabel('Predicted labels');ax.set_ylabel('True labels');\n",
        "ax.set_title('Confusion Matrix');\n",
        "ax.xaxis.set_ticklabels(['negative', 'positive']); ax.yaxis.set_ticklabels(['negative', 'positive']);"
      ]
    },
    {
      "cell_type": "code",
      "execution_count": null,
      "metadata": {
        "id": "vZPcKfGZGf11",
        "colab": {
          "base_uri": "https://localhost:8080/"
        },
        "outputId": "09831179-341f-4edb-8819-8ac78d79f8d5"
      },
      "outputs": [
        {
          "output_type": "stream",
          "name": "stdout",
          "text": [
            "[0]\n"
          ]
        }
      ],
      "source": [
        "# testing the model with sample 'Negative' review\n",
        "demo_review = np.array(['Defective. Bad. Stopped working after one day use'])\n",
        "demo_review_X_test = tvec.transform(demo_review)\n",
        "print(nbm.predict(demo_review_X_test))\n",
        "\n",
        "# expected output = 0 (Negative)\n",
        "# actual output = 0 (Negative)"
      ]
    },
    {
      "cell_type": "code",
      "execution_count": null,
      "metadata": {
        "id": "d-_MjfVLGh6N",
        "colab": {
          "base_uri": "https://localhost:8080/"
        },
        "outputId": "443d4136-f435-41d7-cf8e-4383ab74a833"
      },
      "outputs": [
        {
          "output_type": "stream",
          "name": "stdout",
          "text": [
            "[1]\n"
          ]
        }
      ],
      "source": [
        "# testing the model with sample 'Positive' review\n",
        "demo_review_2 = np.array(['Good product. highly recommend buying.'])\n",
        "demo_review_X_test_2 = tvec.transform(demo_review_2)\n",
        "print(nbm.predict(demo_review_X_test_2))\n",
        "\n",
        "# expected output = 1 (Positive)\n",
        "# actual output = 1 (Positive)"
      ]
    },
    {
      "cell_type": "code",
      "source": [
        "import xgboost as xgb\n",
        "\n",
        "# XGBoost model\n",
        "xgb_model = xgb.XGBClassifier(random_state=42)\n",
        "\n",
        "# Perform 4-fold cross-validation\n",
        "kf_4 = KFold(n_splits=4, shuffle=True, random_state=42)\n",
        "cv_scores_4_xgb = cross_val_score(xgb_model, X_train_tvec, Y_train, cv=kf_4, scoring='accuracy')\n",
        "\n",
        "# Create a DataFrame to store cross-validation results\n",
        "cv_results_4_xgb = pd.DataFrame(index=range(1, 5))\n",
        "cv_results_4_xgb['Accuracy'] = cv_scores_4_xgb\n",
        "cv_results_4_xgb['Precision'] = cross_val_score(xgb_model, X_train_tvec, Y_train, cv=kf_4, scoring='precision_macro')\n",
        "cv_results_4_xgb['Recall'] = cross_val_score(xgb_model, X_train_tvec, Y_train, cv=kf_4, scoring='recall_macro')\n",
        "cv_results_4_xgb['F1 Score'] = cross_val_score(xgb_model, X_train_tvec, Y_train, cv=kf_4, scoring='f1_macro')\n",
        "\n",
        "# Print 4-fold cross-validation results\n",
        "print(\"4-Fold Cross-Validation Results (XGBoost):\")\n",
        "print(cv_results_4_xgb)\n",
        "\n",
        "# Calculate and print mean scores for 4-fold cross-validation\n",
        "print(\"\\nMean Scores for 4-Fold Cross-Validation (XGBoost):\")\n",
        "print(\"Mean Accuracy:\", cv_scores_4_xgb.mean())\n",
        "print(\"Mean Precision:\", cv_results_4_xgb['Precision'].mean())\n",
        "print(\"Mean Recall:\", cv_results_4_xgb['Recall'].mean())\n",
        "print(\"Mean F1 Score:\", cv_results_4_xgb['F1 Score'].mean())\n",
        "\n",
        "# Perform 10-fold cross-validation\n",
        "kf_10 = KFold(n_splits=10, shuffle=True, random_state=42)\n",
        "cv_scores_10_xgb = cross_val_score(xgb_model, X_train_tvec, Y_train, cv=kf_10, scoring='accuracy')\n",
        "\n",
        "# Create a DataFrame to store cross-validation results\n",
        "cv_results_10_xgb = pd.DataFrame(index=range(1, 11))\n",
        "cv_results_10_xgb['Accuracy'] = cv_scores_10_xgb\n",
        "cv_results_10_xgb['Precision'] = cross_val_score(xgb_model, X_train_tvec, Y_train, cv=kf_10, scoring='precision_macro')\n",
        "cv_results_10_xgb['Recall'] = cross_val_score(xgb_model, X_train_tvec, Y_train, cv=kf_10, scoring='recall_macro')\n",
        "cv_results_10_xgb['F1 Score'] = cross_val_score(xgb_model, X_train_tvec, Y_train, cv=kf_10, scoring='f1_macro')\n",
        "\n",
        "# Print 10-fold cross-validation results\n",
        "print(\"\\n10-Fold Cross-Validation Results (XGBoost):\")\n",
        "print(cv_results_10_xgb)\n",
        "\n",
        "# Calculate and print mean scores for 10-fold cross-validation\n",
        "print(\"\\nMean Scores for 10-Fold Cross-Validation (XGBoost):\")\n",
        "print(\"Mean Accuracy:\", cv_scores_10_xgb.mean())\n",
        "print(\"Mean Precision:\", cv_results_10_xgb['Precision'].mean())\n",
        "print(\"Mean Recall:\", cv_results_10_xgb['Recall'].mean())\n",
        "print(\"Mean F1 Score:\", cv_results_10_xgb['F1 Score'].mean())\n"
      ],
      "metadata": {
        "colab": {
          "base_uri": "https://localhost:8080/"
        },
        "id": "mfdbJP8fL7hX",
        "outputId": "479e6b23-7be4-4c5f-948c-1bc09cf81459"
      },
      "execution_count": 95,
      "outputs": [
        {
          "output_type": "stream",
          "name": "stdout",
          "text": [
            "4-Fold Cross-Validation Results (XGBoost):\n",
            "   Accuracy  Precision    Recall  F1 Score\n",
            "1  0.858234   0.847407  0.815525  0.828427\n",
            "2  0.880306   0.870203  0.838991  0.852159\n",
            "3  0.873514   0.865683  0.827495  0.842903\n",
            "4  0.873461   0.867577  0.834689  0.848053\n",
            "\n",
            "Mean Scores for 4-Fold Cross-Validation (XGBoost):\n",
            "Mean Accuracy: 0.8713787628100454\n",
            "Mean Precision: 0.8627173270735582\n",
            "Mean Recall: 0.8291748743979933\n",
            "Mean F1 Score: 0.8428854760801501\n",
            "\n",
            "10-Fold Cross-Validation Results (XGBoost):\n",
            "    Accuracy  Precision    Recall  F1 Score\n",
            "1   0.890774   0.882612  0.853876  0.866220\n",
            "2   0.843054   0.825889  0.802676  0.812436\n",
            "3   0.863203   0.850344  0.814965  0.829351\n",
            "4   0.878981   0.868938  0.845684  0.855754\n",
            "5   0.878981   0.870795  0.837060  0.851036\n",
            "6   0.870488   0.867914  0.835954  0.848625\n",
            "7   0.875796   0.862524  0.811885  0.831992\n",
            "8   0.880042   0.875264  0.837629  0.852841\n",
            "9   0.873673   0.857688  0.842796  0.849580\n",
            "10  0.856688   0.843907  0.826170  0.833887\n",
            "\n",
            "Mean Scores for 10-Fold Cross-Validation (XGBoost):\n",
            "Mean Accuracy: 0.8711680434444888\n",
            "Mean Precision: 0.8605875505852444\n",
            "Mean Recall: 0.8308695072012584\n",
            "Mean F1 Score: 0.8431721820889866\n"
          ]
        }
      ]
    },
    {
      "cell_type": "code",
      "source": [
        "xgb_model = xgb.XGBClassifier(random_state=42)\n",
        "xgb_model.fit(X_train_tvec, Y_train)\n",
        "xgb_predictions = xgb_model.predict(tvec.transform(X_test_cleaned))\n",
        "report_xgb = classification_report(Y_test, xgb_predictions, output_dict=True)\n",
        "data_report_xgb = pd.DataFrame(report_xgb).transpose().round(4)\n",
        "cm = sns.light_palette(\"blue\", as_cmap=True)\n",
        "styled_data_report_xgb = data_report_xgb.style.background_gradient(cmap=cm)\n",
        "styled_data_report_xgb"
      ],
      "metadata": {
        "id": "x42RaC-kNjiE",
        "colab": {
          "base_uri": "https://localhost:8080/",
          "height": 206
        },
        "outputId": "4dddf496-47b9-4145-9735-33924813e018"
      },
      "execution_count": 96,
      "outputs": [
        {
          "output_type": "execute_result",
          "data": {
            "text/plain": [
              "<pandas.io.formats.style.Styler at 0x7e1a46d75870>"
            ],
            "text/html": [
              "<style type=\"text/css\">\n",
              "#T_efada_row0_col0, #T_efada_row0_col1, #T_efada_row0_col2, #T_efada_row2_col3 {\n",
              "  background-color: #f0f0f3;\n",
              "  color: #000000;\n",
              "}\n",
              "#T_efada_row0_col3 {\n",
              "  background-color: #a8a8f6;\n",
              "  color: #000000;\n",
              "}\n",
              "#T_efada_row1_col0, #T_efada_row1_col1, #T_efada_row1_col2, #T_efada_row3_col3, #T_efada_row4_col3 {\n",
              "  background-color: #0000ff;\n",
              "  color: #f1f1f1;\n",
              "}\n",
              "#T_efada_row1_col3, #T_efada_row2_col1, #T_efada_row4_col0, #T_efada_row4_col1, #T_efada_row4_col2 {\n",
              "  background-color: #4949fb;\n",
              "  color: #f1f1f1;\n",
              "}\n",
              "#T_efada_row2_col0 {\n",
              "  background-color: #4040fc;\n",
              "  color: #f1f1f1;\n",
              "}\n",
              "#T_efada_row2_col2 {\n",
              "  background-color: #4444fc;\n",
              "  color: #f1f1f1;\n",
              "}\n",
              "#T_efada_row3_col0, #T_efada_row3_col2 {\n",
              "  background-color: #7878f9;\n",
              "  color: #f1f1f1;\n",
              "}\n",
              "#T_efada_row3_col1 {\n",
              "  background-color: #7979f9;\n",
              "  color: #f1f1f1;\n",
              "}\n",
              "</style>\n",
              "<table id=\"T_efada\" class=\"dataframe\">\n",
              "  <thead>\n",
              "    <tr>\n",
              "      <th class=\"blank level0\" >&nbsp;</th>\n",
              "      <th id=\"T_efada_level0_col0\" class=\"col_heading level0 col0\" >precision</th>\n",
              "      <th id=\"T_efada_level0_col1\" class=\"col_heading level0 col1\" >recall</th>\n",
              "      <th id=\"T_efada_level0_col2\" class=\"col_heading level0 col2\" >f1-score</th>\n",
              "      <th id=\"T_efada_level0_col3\" class=\"col_heading level0 col3\" >support</th>\n",
              "    </tr>\n",
              "  </thead>\n",
              "  <tbody>\n",
              "    <tr>\n",
              "      <th id=\"T_efada_level0_row0\" class=\"row_heading level0 row0\" >0</th>\n",
              "      <td id=\"T_efada_row0_col0\" class=\"data row0 col0\" >0.838100</td>\n",
              "      <td id=\"T_efada_row0_col1\" class=\"data row0 col1\" >0.735600</td>\n",
              "      <td id=\"T_efada_row0_col2\" class=\"data row0 col2\" >0.783500</td>\n",
              "      <td id=\"T_efada_row0_col3\" class=\"data row0 col3\" >711.000000</td>\n",
              "    </tr>\n",
              "    <tr>\n",
              "      <th id=\"T_efada_level0_row1\" class=\"row_heading level0 row1\" >1</th>\n",
              "      <td id=\"T_efada_row1_col0\" class=\"data row1 col0\" >0.891500</td>\n",
              "      <td id=\"T_efada_row1_col1\" class=\"data row1 col1\" >0.938600</td>\n",
              "      <td id=\"T_efada_row1_col2\" class=\"data row1 col2\" >0.914400</td>\n",
              "      <td id=\"T_efada_row1_col3\" class=\"data row1 col3\" >1645.000000</td>\n",
              "    </tr>\n",
              "    <tr>\n",
              "      <th id=\"T_efada_level0_row2\" class=\"row_heading level0 row2\" >accuracy</th>\n",
              "      <td id=\"T_efada_row2_col0\" class=\"data row2 col0\" >0.877300</td>\n",
              "      <td id=\"T_efada_row2_col1\" class=\"data row2 col1\" >0.877300</td>\n",
              "      <td id=\"T_efada_row2_col2\" class=\"data row2 col2\" >0.877300</td>\n",
              "      <td id=\"T_efada_row2_col3\" class=\"data row2 col3\" >0.877300</td>\n",
              "    </tr>\n",
              "    <tr>\n",
              "      <th id=\"T_efada_level0_row3\" class=\"row_heading level0 row3\" >macro avg</th>\n",
              "      <td id=\"T_efada_row3_col0\" class=\"data row3 col0\" >0.864800</td>\n",
              "      <td id=\"T_efada_row3_col1\" class=\"data row3 col1\" >0.837100</td>\n",
              "      <td id=\"T_efada_row3_col2\" class=\"data row3 col2\" >0.849000</td>\n",
              "      <td id=\"T_efada_row3_col3\" class=\"data row3 col3\" >2356.000000</td>\n",
              "    </tr>\n",
              "    <tr>\n",
              "      <th id=\"T_efada_level0_row4\" class=\"row_heading level0 row4\" >weighted avg</th>\n",
              "      <td id=\"T_efada_row4_col0\" class=\"data row4 col0\" >0.875400</td>\n",
              "      <td id=\"T_efada_row4_col1\" class=\"data row4 col1\" >0.877300</td>\n",
              "      <td id=\"T_efada_row4_col2\" class=\"data row4 col2\" >0.874900</td>\n",
              "      <td id=\"T_efada_row4_col3\" class=\"data row4 col3\" >2356.000000</td>\n",
              "    </tr>\n",
              "  </tbody>\n",
              "</table>\n"
            ]
          },
          "metadata": {},
          "execution_count": 96
        }
      ]
    },
    {
      "cell_type": "code",
      "source": [
        "# conf mat\n",
        "xgb_predictions = xgb_model.predict(tvec.transform(X_test_cleaned))\n",
        "ax = plt.subplot()\n",
        "cm_xgb = confusion_matrix(Y_test, xgb_predictions)\n",
        "sns.heatmap(cm_xgb, annot=True, fmt='g', ax=ax, cmap='Purples')\n",
        "ax.set_xlabel('Predicted labels')\n",
        "ax.set_ylabel('True labels')\n",
        "ax.set_title('Confusion Matrix')\n",
        "ax.xaxis.set_ticklabels(['negative', 'positive'])\n",
        "ax.yaxis.set_ticklabels(['negative', 'positive'])\n",
        "plt.show()"
      ],
      "metadata": {
        "id": "RBBycMUgOt1v",
        "colab": {
          "base_uri": "https://localhost:8080/",
          "height": 472
        },
        "outputId": "06be1cb3-f698-40e3-bf85-4cecb47c12de"
      },
      "execution_count": 97,
      "outputs": [
        {
          "output_type": "display_data",
          "data": {
            "text/plain": [
              "<Figure size 640x480 with 2 Axes>"
            ],
            "image/png": "[encoded data removed]"
          },
          "metadata": {}
        }
      ]
    }
  ],
  "metadata": {
    "colab": {
      "provenance": [],
      "authorship_tag": "ABX9TyOafIMmXiJG6/ZI+owuv4Cu",
      "include_colab_link": true
    },
    "kernelspec": {
      "display_name": "Python 3",
      "name": "python3"
    },
    "language_info": {
      "name": "python"
    }
  },
  "nbformat": 4,
  "nbformat_minor": 0
}